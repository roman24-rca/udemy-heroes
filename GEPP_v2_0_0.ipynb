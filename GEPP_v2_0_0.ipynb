{
  "nbformat": 4,
  "nbformat_minor": 0,
  "metadata": {
    "colab": {
      "name": "GEPP_v2.0.0.ipynb",
      "provenance": [],
      "collapsed_sections": [],
      "include_colab_link": true
    },
    "kernelspec": {
      "display_name": "Python 3",
      "name": "python3"
    }
  },
  "cells": [
    {
      "cell_type": "markdown",
      "metadata": {
        "id": "view-in-github",
        "colab_type": "text"
      },
      "source": [
        "<a href=\"https://colab.research.google.com/github/roman24-rca/udemy-heroes/blob/master/GEPP_v2_0_0.ipynb\" target=\"_parent\"><img src=\"https://colab.research.google.com/assets/colab-badge.svg\" alt=\"Open In Colab\"/></a>"
      ]
    },
    {
      "cell_type": "code",
      "metadata": {
        "id": "ngcBCuD2da3_",
        "outputId": "7563a17c-62c0-46da-c495-1087aa834057",
        "colab": {
          "base_uri": "https://localhost:8080/"
        }
      },
      "source": [
        "from google.colab import drive\n",
        "drive.mount('/content/drive')"
      ],
      "execution_count": null,
      "outputs": [
        {
          "output_type": "stream",
          "text": [
            "Mounted at /content/drive\n"
          ],
          "name": "stdout"
        }
      ]
    },
    {
      "cell_type": "code",
      "metadata": {
        "id": "XW4DDQD1dTPj"
      },
      "source": [
        "from dateutil import parser\n",
        "from bs4 import BeautifulSoup\n",
        "import requests"
      ],
      "execution_count": null,
      "outputs": []
    },
    {
      "cell_type": "code",
      "metadata": {
        "id": "w5Y9YvJgMzhG"
      },
      "source": [
        "!apt-get install openjdk-8-jdk-headless -qq > /dev/null"
      ],
      "execution_count": null,
      "outputs": []
    },
    {
      "cell_type": "code",
      "metadata": {
        "id": "qeu1WbeoM3vs"
      },
      "source": [
        "url = 'https://downloads.apache.org/spark/' \n",
        "r = requests.get(url)\n",
        "html_doc = r.text\n",
        "soup = BeautifulSoup(html_doc)\n",
        "link_files = []\n",
        "for link in soup.find_all('a'):\n",
        "  link_files.append(link.get('href'))\n",
        "spark_link = [x for x in link_files if 'spark' in x] \n",
        "ver_spark = spark_link[1][:-1]"
      ],
      "execution_count": null,
      "outputs": []
    },
    {
      "cell_type": "code",
      "metadata": {
        "id": "PIab-HqXM9OV",
        "outputId": "f71cb081-2ec1-499c-9418-d9e4054e369a",
        "colab": {
          "base_uri": "https://localhost:8080/"
        }
      },
      "source": [
        "import os\n",
        "link = \"https://www-us.apache.org/dist/spark/\"\n",
        "os.system(f\"wget -q {link}{ver_spark}/{ver_spark}-bin-hadoop2.7.tgz\")\n",
        "os.system(f\"tar xf {ver_spark}-bin-hadoop2.7.tgz\")\n",
        "\n",
        "!pip install -q pyspark"
      ],
      "execution_count": null,
      "outputs": [
        {
          "output_type": "stream",
          "text": [
            "\u001b[K     |████████████████████████████████| 204.2MB 55kB/s \n",
            "\u001b[K     |████████████████████████████████| 204kB 43.0MB/s \n",
            "\u001b[?25h  Building wheel for pyspark (setup.py) ... \u001b[?25l\u001b[?25hdone\n"
          ],
          "name": "stdout"
        }
      ]
    },
    {
      "cell_type": "code",
      "metadata": {
        "id": "JfvQPbvNNHub"
      },
      "source": [
        "os.environ[\"JAVA_HOME\"] = \"/usr/lib/jvm/java-8-openjdk-amd64\"\n",
        "os.environ[\"SPARK_HOME\"] = f\"/content/{ver_spark}-bin-hadoop2.7\""
      ],
      "execution_count": null,
      "outputs": []
    },
    {
      "cell_type": "code",
      "metadata": {
        "id": "vp3tf2_cN40s"
      },
      "source": [
        "from pyspark.sql import SparkSession\n",
        "spark = SparkSession.builder.appName(\"Gepp\").master(\"local[*]\").getOrCreate()\n",
        "import pyspark.sql.functions as F"
      ],
      "execution_count": null,
      "outputs": []
    },
    {
      "cell_type": "markdown",
      "metadata": {
        "id": "Qa7LSGb7OQak"
      },
      "source": [
        "#Path"
      ]
    },
    {
      "cell_type": "code",
      "metadata": {
        "id": "WGv6LfWDN7oD"
      },
      "source": [
        "pathSellint = '/content/drive/My Drive/GEPP/Selint/'\n",
        "pathSellout2018 = '/content/drive/My Drive/GEPP/Selout/Sellout2018r'\n",
        "pathSellout2019 = '/content/drive/My Drive/GEPP/Selout/Sellout2019'\n",
        "pathSellout2020 = '/content/drive/My Drive/GEPP/Selout/Sellout2020'\n",
        "pathGeneral = '/content/drive/My Drive/GEPP/General'\n",
        "pathSucursales = '/content/drive/My Drive/GEPP/Sucursales'\n",
        "pathProductos = '/content/drive/My Drive/GEPP/Productos/productos.parquet'"
      ],
      "execution_count": null,
      "outputs": []
    },
    {
      "cell_type": "markdown",
      "metadata": {
        "id": "filSXP9pOWDQ"
      },
      "source": [
        "#Source"
      ]
    },
    {
      "cell_type": "code",
      "metadata": {
        "id": "8p-TgQnOOBTN"
      },
      "source": [
        "Sellint = spark.read.format(\"parquet\").load(pathSellint)\n",
        "Sellout2018 = spark.read.format(\"parquet\").load(pathSellout2018)\n",
        "Sellout2019 = spark.read.format(\"parquet\").load(pathSellout2019)\n",
        "Sellout2020 = spark.read.format(\"parquet\").load(pathSellout2020)\n",
        "General = spark.read.format(\"parquet\").load(pathGeneral)\n",
        "Sucursales = spark.read.format(\"parquet\").load(pathSucursales)\n",
        "productos = spark.read.format(\"parquet\").load(pathProductos)"
      ],
      "execution_count": null,
      "outputs": []
    },
    {
      "cell_type": "markdown",
      "metadata": {
        "id": "coG5ZkB72N1Y"
      },
      "source": [
        "#Import"
      ]
    },
    {
      "cell_type": "code",
      "metadata": {
        "id": "ktKTEEvKNf6p"
      },
      "source": [
        "from pyspark.sql import Row\n",
        "from pyspark.sql.types import *\n",
        "import pandas as pd\n",
        "import numpy as np\n",
        "from datetime import datetime\n",
        "now = datetime.now().strftime('%Y-%m-%d')"
      ],
      "execution_count": null,
      "outputs": []
    },
    {
      "cell_type": "markdown",
      "metadata": {
        "id": "sxHm64fO2BhG"
      },
      "source": [
        "# Segmentación Sellint"
      ]
    },
    {
      "cell_type": "markdown",
      "metadata": {
        "id": "gqi0NbQMyARw"
      },
      "source": [
        "#Sellint 2018"
      ]
    },
    {
      "cell_type": "code",
      "metadata": {
        "id": "waGq--gPY6tl"
      },
      "source": [
        "Sellint18 = Sellint.filter(F.substring(\"PERIODO\",5,2) == 18)\n",
        "Sellint18K = Sellint18.withColumn(\"SKU\", F.concat(F.trim(\"MARCA\"),F.trim(\"PRESENTACION\"),F.trim(\"TIPO_ENVASE\"), F.trim(\"SABOR\")))\n",
        "Sellint18S = Sellint18K.withColumn(\"date\", F.when((F.col(\"PERIODO\") == \"Jan-18\"), F.lit(\"01-18\"))\n",
        ".when((F.col(\"PERIODO\") == \"Feb-18\"), F.lit(\"02-18\"))\n",
        ".when((F.col(\"PERIODO\") == \"Mar-18\"), F.lit(\"03-18\"))\n",
        ".when((F.col(\"PERIODO\") == \"Apr-18\"), F.lit(\"04-18\"))\n",
        ".when((F.col(\"PERIODO\") == \"May-18\"), F.lit(\"05-18\"))\n",
        ".when((F.col(\"PERIODO\") == \"Jun-18\"), F.lit(\"06-18\"))\n",
        ".when((F.col(\"PERIODO\") == \"Jul-18\"), F.lit(\"07-18\"))\n",
        ".when((F.col(\"PERIODO\") == \"Aug-18\"), F.lit(\"08-18\"))\n",
        ".when((F.col(\"PERIODO\") == \"Sep-18\"), F.lit(\"09-18\"))\n",
        ".when((F.col(\"PERIODO\") == \"Oct-18\"), F.lit(\"10-18\"))\n",
        ".when((F.col(\"PERIODO\") == \"Nov-18\"), F.lit(\"11-18\"))\n",
        ".when((F.col(\"PERIODO\") == \"Dec-18\"), F.lit(\"12-18\")).otherwise(None))"
      ],
      "execution_count": null,
      "outputs": []
    },
    {
      "cell_type": "code",
      "metadata": {
        "id": "vIeDs7WtNIQs",
        "outputId": "d5782317-da5b-4541-89c4-3301b3edda33",
        "colab": {
          "base_uri": "https://localhost:8080/"
        }
      },
      "source": [
        "max_date = Sellint18S.select(F.from_unixtime(F.unix_timestamp(F.max(\"date\"), \"MM-yy\"))).rdd.map(lambda x:(str(x[0]))).collect()\n",
        "max_date = max_date[0][:10]\n",
        "print(max_date)"
      ],
      "execution_count": null,
      "outputs": [
        {
          "output_type": "stream",
          "text": [
            "2018-12-01\n"
          ],
          "name": "stdout"
        }
      ]
    },
    {
      "cell_type": "code",
      "metadata": {
        "id": "2xuDd_toN-gB"
      },
      "source": [
        "df6 = Sellint18S.withColumn(\"datee\", F.to_date(F.from_unixtime(F.unix_timestamp(\"date\", \"MM-yy\"))).cast(\"date\")).sort(\"COMPRAS\", ascending=False)\n",
        "df6 = df6.withColumn(\"amount_total\", F.col(\"INGRESO\"))"
      ],
      "execution_count": null,
      "outputs": []
    },
    {
      "cell_type": "markdown",
      "metadata": {
        "id": "BTlsP8xN20by"
      },
      "source": [
        "#Calculamos la recencia"
      ]
    },
    {
      "cell_type": "code",
      "metadata": {
        "id": "ZJJnrlYNPP_G"
      },
      "source": [
        "recency_df = df6.groupBy(\"SKU\").agg(F.max(\"datee\").alias(\"LastPurshaceDate\"))\n",
        "recency_df = recency_df.withColumn(\"date\", F.lit(now))\n",
        "recency_df = recency_df.withColumn(\"recency\", F.datediff(F.to_date(recency_df[\"date\"]),F.to_date(recency_df[\"LastPurshaceDate\"]))).sort(\"recency\")\n",
        "recency_df = recency_df.select(\"SKU\", \"Recency\")"
      ],
      "execution_count": null,
      "outputs": []
    },
    {
      "cell_type": "markdown",
      "metadata": {
        "id": "D5nqITGn23rN"
      },
      "source": [
        "#Eliminamos duplicados y Calculamos la frecuencia"
      ]
    },
    {
      "cell_type": "code",
      "metadata": {
        "id": "NYBBU0gYQToL"
      },
      "source": [
        "frequency_df = df6.dropDuplicates([\"COMPRAS\", \"SKU\"])\n",
        "frequency_df = frequency_df.groupBy(\"SKU\").agg(F.count(\"*\").alias(\"Frequency\"))\n",
        "frequency_df = frequency_df.select(\"SKU\", \"Frequency\")"
      ],
      "execution_count": null,
      "outputs": []
    },
    {
      "cell_type": "markdown",
      "metadata": {
        "id": "annHEE3O3CwP"
      },
      "source": [
        "#Calculamos el monto de ingreso"
      ]
    },
    {
      "cell_type": "code",
      "metadata": {
        "id": "KOeVk-GbQ1YF"
      },
      "source": [
        "monetary_df = df6.dropDuplicates([\"COMPRAS\", \"SKU\"])\n",
        "monetary_df = monetary_df.groupBy(\"SKU\").agg(F.sum(\"amount_total\").alias(\"Monetary\"))\n",
        "monetary_df = monetary_df.select(\"SKU\", \"Monetary\")"
      ],
      "execution_count": null,
      "outputs": []
    },
    {
      "cell_type": "markdown",
      "metadata": {
        "id": "hzKhD-5F3LOL"
      },
      "source": [
        "#Union de dataframe"
      ]
    },
    {
      "cell_type": "code",
      "metadata": {
        "id": "y6v_BHe6Q1WW"
      },
      "source": [
        "rfm_table = recency_df.join(frequency_df, \"SKU\").sort(\"SKU\")\n",
        "rfm_table = rfm_table.join(monetary_df, \"SKU\").sort(\"SKU\")"
      ],
      "execution_count": null,
      "outputs": []
    },
    {
      "cell_type": "markdown",
      "metadata": {
        "id": "MM73DxP93QW9"
      },
      "source": [
        "#Metodo de Quantiles en Spark"
      ]
    },
    {
      "cell_type": "code",
      "metadata": {
        "id": "xn-iWEtjSQ9i"
      },
      "source": [
        "quantile = rfm_table.approxQuantile([\"Recency\", \"Frequency\", \"Monetary\"], [0.25, 0.5, 0.75], 0)"
      ],
      "execution_count": null,
      "outputs": []
    },
    {
      "cell_type": "markdown",
      "metadata": {
        "id": "txoJWD0k3UYW"
      },
      "source": [
        "#Porcentaje quartil recencia"
      ]
    },
    {
      "cell_type": "code",
      "metadata": {
        "id": "n9r4jof1SX8I"
      },
      "source": [
        "rfm_table2 = rfm_table.withColumn(\"r_quantile\", F.when((F.col(\"Recency\") >= 0) & (F.col(\"Recency\") <= quantile[0][0]), \"4\")\\\n",
        "                                  .when((F.col(\"Recency\") > quantile[0][0]) & (F.col(\"Recency\") <= quantile[0][1]), \"3\")\\\n",
        "                                  .when((F.col(\"Recency\") > quantile[0][1]) & (F.col(\"Recency\") <= quantile[0][2]), \"2\").otherwise(\"1\"))"
      ],
      "execution_count": null,
      "outputs": []
    },
    {
      "cell_type": "markdown",
      "metadata": {
        "id": "Edu2TdCl3upx"
      },
      "source": [
        "#Porcentaje quartil frecuencia"
      ]
    },
    {
      "cell_type": "code",
      "metadata": {
        "id": "wJ3fUArgSr_T"
      },
      "source": [
        "rfm_table2 = rfm_table2.withColumn(\"f_quantile\", F.when((F.col(\"Frequency\") >= 0) & (F.col(\"Frequency\") <= quantile[1][0]), \"1\")\\\n",
        " .when((F.col(\"Frequency\") > quantile[1][0]) & (F.col(\"Frequency\") <= quantile[1][1]), \"2\")\\\n",
        " .when((F.col(\"Frequency\") > quantile[1][1]) & (F.col(\"Frequency\") <= quantile[1][2]), \"3\").otherwise(\"4\"))"
      ],
      "execution_count": null,
      "outputs": []
    },
    {
      "cell_type": "markdown",
      "metadata": {
        "id": "kQN4MNdD3wDL"
      },
      "source": [
        "#Porcentaje quartil monto"
      ]
    },
    {
      "cell_type": "code",
      "metadata": {
        "id": "e2ITofkjS9gB"
      },
      "source": [
        "rfm_table3 = rfm_table2.withColumn(\"m_quantile\", F.when((F.col(\"Monetary\") >= 0) & (F.col(\"Monetary\") <= quantile[2][0]), \"1\")\\\n",
        " .when((F.col(\"Monetary\") > quantile[2][0]) & (F.col(\"Monetary\") <= quantile[2][1]), \"2\")\\\n",
        " .when((F.col(\"Monetary\") > quantile[2][1]) & (F.col(\"Monetary\") <= quantile[2][2]), \"3\").otherwise(\"4\"))"
      ],
      "execution_count": null,
      "outputs": []
    },
    {
      "cell_type": "markdown",
      "metadata": {
        "id": "b8aXJbM233aa"
      },
      "source": [
        "#Funcionn UDF para RFMscore"
      ]
    },
    {
      "cell_type": "code",
      "metadata": {
        "id": "vGg5ERKOTPLy"
      },
      "source": [
        "def rfm_score(r,f,m):\n",
        " value = \"{0}{1}{2}\".format(r,f,m)\n",
        " return value\n",
        "return_rfm_score_udf = F.udf(rfm_score)\n",
        "outp = rfm_table3.withColumn(\"RFMScore\", return_rfm_score_udf(F.col(\"r_quantile\"),F.col(\"f_quantile\"),F.col(\"m_quantile\")))"
      ],
      "execution_count": null,
      "outputs": []
    },
    {
      "cell_type": "markdown",
      "metadata": {
        "id": "iRxncQQL7QBE"
      },
      "source": [
        "#RFM Sellint2018"
      ]
    },
    {
      "cell_type": "code",
      "metadata": {
        "id": "8dBVUUO9Thbc",
        "outputId": "80507f49-0a73-4af8-e308-52d876aadc04",
        "colab": {
          "base_uri": "https://localhost:8080/",
          "height": 419
        }
      },
      "source": [
        "outp.sort(\"RFMScore\", ascending=False).toPandas()"
      ],
      "execution_count": null,
      "outputs": [
        {
          "output_type": "execute_result",
          "data": {
            "text/html": [
              "<div>\n",
              "<style scoped>\n",
              "    .dataframe tbody tr th:only-of-type {\n",
              "        vertical-align: middle;\n",
              "    }\n",
              "\n",
              "    .dataframe tbody tr th {\n",
              "        vertical-align: top;\n",
              "    }\n",
              "\n",
              "    .dataframe thead th {\n",
              "        text-align: right;\n",
              "    }\n",
              "</style>\n",
              "<table border=\"1\" class=\"dataframe\">\n",
              "  <thead>\n",
              "    <tr style=\"text-align: right;\">\n",
              "      <th></th>\n",
              "      <th>SKU</th>\n",
              "      <th>Recency</th>\n",
              "      <th>Frequency</th>\n",
              "      <th>Monetary</th>\n",
              "      <th>r_quantile</th>\n",
              "      <th>f_quantile</th>\n",
              "      <th>m_quantile</th>\n",
              "      <th>RFMScore</th>\n",
              "    </tr>\n",
              "  </thead>\n",
              "  <tbody>\n",
              "    <tr>\n",
              "      <th>0</th>\n",
              "      <td>7 Up3 LtsPetLima Limon</td>\n",
              "      <td>711</td>\n",
              "      <td>274</td>\n",
              "      <td>2.794359e+07</td>\n",
              "      <td>4</td>\n",
              "      <td>4</td>\n",
              "      <td>4</td>\n",
              "      <td>444</td>\n",
              "    </tr>\n",
              "    <tr>\n",
              "      <th>1</th>\n",
              "      <td>Mzna Sol600 MlPetManzana</td>\n",
              "      <td>711</td>\n",
              "      <td>590</td>\n",
              "      <td>8.136797e+07</td>\n",
              "      <td>4</td>\n",
              "      <td>4</td>\n",
              "      <td>4</td>\n",
              "      <td>444</td>\n",
              "    </tr>\n",
              "    <tr>\n",
              "      <th>2</th>\n",
              "      <td>Be Light1.5 LtsPetLimon</td>\n",
              "      <td>711</td>\n",
              "      <td>386</td>\n",
              "      <td>4.477672e+07</td>\n",
              "      <td>4</td>\n",
              "      <td>4</td>\n",
              "      <td>4</td>\n",
              "      <td>444</td>\n",
              "    </tr>\n",
              "    <tr>\n",
              "      <th>3</th>\n",
              "      <td>Epura1.5 LtsPetAgua Natural</td>\n",
              "      <td>711</td>\n",
              "      <td>458</td>\n",
              "      <td>2.684727e+08</td>\n",
              "      <td>4</td>\n",
              "      <td>4</td>\n",
              "      <td>4</td>\n",
              "      <td>444</td>\n",
              "    </tr>\n",
              "    <tr>\n",
              "      <th>4</th>\n",
              "      <td>Mzna Sol2 LtsPetManzana</td>\n",
              "      <td>711</td>\n",
              "      <td>416</td>\n",
              "      <td>5.219622e+07</td>\n",
              "      <td>4</td>\n",
              "      <td>4</td>\n",
              "      <td>4</td>\n",
              "      <td>444</td>\n",
              "    </tr>\n",
              "    <tr>\n",
              "      <th>...</th>\n",
              "      <td>...</td>\n",
              "      <td>...</td>\n",
              "      <td>...</td>\n",
              "      <td>...</td>\n",
              "      <td>...</td>\n",
              "      <td>...</td>\n",
              "      <td>...</td>\n",
              "      <td>...</td>\n",
              "    </tr>\n",
              "    <tr>\n",
              "      <th>377</th>\n",
              "      <td>CosechaPur200 MlTetra PackManzana</td>\n",
              "      <td>772</td>\n",
              "      <td>1</td>\n",
              "      <td>6.200000e+00</td>\n",
              "      <td>1</td>\n",
              "      <td>1</td>\n",
              "      <td>1</td>\n",
              "      <td>111</td>\n",
              "    </tr>\n",
              "    <tr>\n",
              "      <th>378</th>\n",
              "      <td>Jarritos1.5 LtsPetMultisabor</td>\n",
              "      <td>925</td>\n",
              "      <td>2</td>\n",
              "      <td>3.014700e+02</td>\n",
              "      <td>1</td>\n",
              "      <td>1</td>\n",
              "      <td>1</td>\n",
              "      <td>111</td>\n",
              "    </tr>\n",
              "    <tr>\n",
              "      <th>379</th>\n",
              "      <td>Sangria Casera10 OzGrbSangria</td>\n",
              "      <td>864</td>\n",
              "      <td>1</td>\n",
              "      <td>7.272000e+01</td>\n",
              "      <td>1</td>\n",
              "      <td>1</td>\n",
              "      <td>1</td>\n",
              "      <td>111</td>\n",
              "    </tr>\n",
              "    <tr>\n",
              "      <th>380</th>\n",
              "      <td>RockStar473 MlLataPonche</td>\n",
              "      <td>833</td>\n",
              "      <td>6</td>\n",
              "      <td>2.380869e+05</td>\n",
              "      <td>1</td>\n",
              "      <td>1</td>\n",
              "      <td>1</td>\n",
              "      <td>111</td>\n",
              "    </tr>\n",
              "    <tr>\n",
              "      <th>381</th>\n",
              "      <td>Lipton Light600 MlPetT� Helado Light</td>\n",
              "      <td>741</td>\n",
              "      <td>2</td>\n",
              "      <td>2.979400e+02</td>\n",
              "      <td>1</td>\n",
              "      <td>1</td>\n",
              "      <td>1</td>\n",
              "      <td>111</td>\n",
              "    </tr>\n",
              "  </tbody>\n",
              "</table>\n",
              "<p>382 rows × 8 columns</p>\n",
              "</div>"
            ],
            "text/plain": [
              "                                      SKU  Recency  ...  m_quantile  RFMScore\n",
              "0                  7 Up3 LtsPetLima Limon      711  ...           4       444\n",
              "1                Mzna Sol600 MlPetManzana      711  ...           4       444\n",
              "2                 Be Light1.5 LtsPetLimon      711  ...           4       444\n",
              "3             Epura1.5 LtsPetAgua Natural      711  ...           4       444\n",
              "4                 Mzna Sol2 LtsPetManzana      711  ...           4       444\n",
              "..                                    ...      ...  ...         ...       ...\n",
              "377     CosechaPur200 MlTetra PackManzana      772  ...           1       111\n",
              "378          Jarritos1.5 LtsPetMultisabor      925  ...           1       111\n",
              "379         Sangria Casera10 OzGrbSangria      864  ...           1       111\n",
              "380              RockStar473 MlLataPonche      833  ...           1       111\n",
              "381  Lipton Light600 MlPetT� Helado Light      741  ...           1       111\n",
              "\n",
              "[382 rows x 8 columns]"
            ]
          },
          "metadata": {
            "tags": []
          },
          "execution_count": 23
        }
      ]
    },
    {
      "cell_type": "markdown",
      "metadata": {
        "id": "PO5O53oMhPXF"
      },
      "source": [
        "#Sellint2019"
      ]
    },
    {
      "cell_type": "code",
      "metadata": {
        "id": "i9wbaCZlThea"
      },
      "source": [
        "Sellint19 = Sellint.filter(F.substring(\"PERIODO\",5,2) == 19)\n",
        "Sellint19K = Sellint19.withColumn(\"SKU\", F.concat(F.trim(\"MARCA\"),F.trim(\"PRESENTACION\"),F.trim(\"TIPO_ENVASE\"), F.trim(\"SABOR\")))\n",
        "Sellint19S = Sellint19K.withColumn(\"date\", F.when((F.col(\"PERIODO\") == \"Jan-19\"), F.lit(\"01-19\"))\n",
        ".when((F.col(\"PERIODO\") == \"Feb-19\"), F.lit(\"02-19\"))\n",
        ".when((F.col(\"PERIODO\") == \"Mar-19\"), F.lit(\"03-19\"))\n",
        ".when((F.col(\"PERIODO\") == \"Apr-19\"), F.lit(\"04-19\"))\n",
        ".when((F.col(\"PERIODO\") == \"May-19\"), F.lit(\"05-19\"))\n",
        ".when((F.col(\"PERIODO\") == \"Jun-19\"), F.lit(\"06-19\"))\n",
        ".when((F.col(\"PERIODO\") == \"Jul-19\"), F.lit(\"07-19\"))\n",
        ".when((F.col(\"PERIODO\") == \"Aug-19\"), F.lit(\"08-19\"))\n",
        ".when((F.col(\"PERIODO\") == \"Sep-19\"), F.lit(\"09-19\"))\n",
        ".when((F.col(\"PERIODO\") == \"Oct-19\"), F.lit(\"10-19\"))\n",
        ".when((F.col(\"PERIODO\") == \"Nov-19\"), F.lit(\"11-19\"))\n",
        ".when((F.col(\"PERIODO\") == \"Dec-19\"), F.lit(\"12-19\")).otherwise(None))"
      ],
      "execution_count": null,
      "outputs": []
    },
    {
      "cell_type": "code",
      "metadata": {
        "id": "NvgjGbQ-Thk6"
      },
      "source": [
        "df19 = Sellint19S.withColumn(\"datee\", F.to_date(F.from_unixtime(F.unix_timestamp(\"date\", \"MM-yy\"))).cast(\"date\")).sort(\"COMPRAS\", ascending=False)\n",
        "df19 = df19.withColumn(\"amount_total\", F.col(\"INGRESO\"))"
      ],
      "execution_count": null,
      "outputs": []
    },
    {
      "cell_type": "code",
      "metadata": {
        "id": "YGCzGV-QThtx"
      },
      "source": [
        "recency_df19 = df19.groupBy(\"SKU\").agg(F.max(\"datee\").alias(\"LastPurshaceDate\"))\n",
        "recency_df19 = recency_df19.withColumn(\"date\", F.lit(now))\n",
        "recency_df19 = recency_df19.withColumn(\"recency\", F.datediff(F.to_date(recency_df19[\"date\"]),F.to_date(recency_df19[\"LastPurshaceDate\"]))).sort(\"recency\")\n",
        "recency_df19 = recency_df19.select(\"SKU\", \"Recency\")"
      ],
      "execution_count": null,
      "outputs": []
    },
    {
      "cell_type": "code",
      "metadata": {
        "id": "2peFJY9s74MS"
      },
      "source": [
        "frequency_df19 = df19.dropDuplicates([\"COMPRAS\", \"SKU\"])\n",
        "frequency_df19 = frequency_df19.groupBy(\"SKU\").agg(F.count(\"*\").alias(\"Frequency\"))\n",
        "frequency_df19 = frequency_df19.select(\"SKU\", \"Frequency\")"
      ],
      "execution_count": null,
      "outputs": []
    },
    {
      "cell_type": "code",
      "metadata": {
        "id": "ldbhLDYY74P3"
      },
      "source": [
        "monetary_df19 = df19.dropDuplicates([\"COMPRAS\", \"SKU\"])\n",
        "monetary_df19 = monetary_df19.groupBy(\"SKU\").agg(F.sum(\"amount_total\").alias(\"Monetary\"))\n",
        "monetary_df19 = monetary_df19.select(\"SKU\", \"Monetary\")"
      ],
      "execution_count": null,
      "outputs": []
    },
    {
      "cell_type": "code",
      "metadata": {
        "id": "2f8XhIdj74ge"
      },
      "source": [
        "rfm_table19 = recency_df19.join(frequency_df19, \"SKU\").sort(\"SKU\")\n",
        "rfm_table19 = rfm_table19.join(monetary_df19, \"SKU\").sort(\"SKU\")"
      ],
      "execution_count": null,
      "outputs": []
    },
    {
      "cell_type": "code",
      "metadata": {
        "id": "sIs5RJwJ8BbH"
      },
      "source": [
        "quantile19 = rfm_table19.approxQuantile([\"Recency\", \"Frequency\", \"Monetary\"], [0.25, 0.5, 0.75], 0)"
      ],
      "execution_count": null,
      "outputs": []
    },
    {
      "cell_type": "code",
      "metadata": {
        "id": "sIf8Dbwn8Bj7"
      },
      "source": [
        "rfm_table219 = rfm_table19.withColumn(\"r_quantile\", F.when((F.col(\"Recency\") >= 0) & (F.col(\"Recency\") <= quantile19[0][0]), \"4\")\\\n",
        "                                  .when((F.col(\"Recency\") > quantile19[0][0]) & (F.col(\"Recency\") <= quantile19[0][1]), \"3\")\\\n",
        "                                  .when((F.col(\"Recency\") > quantile19[0][1]) & (F.col(\"Recency\") <= quantile19[0][2]), \"2\").otherwise(\"1\"))"
      ],
      "execution_count": null,
      "outputs": []
    },
    {
      "cell_type": "code",
      "metadata": {
        "id": "oJKC7bHl8Bnl"
      },
      "source": [
        "rfm_table219 = rfm_table219.withColumn(\"f_quantile\", F.when((F.col(\"Frequency\") >= 0) & (F.col(\"Frequency\") <= quantile19[1][0]), \"1\")\\\n",
        " .when((F.col(\"Frequency\") > quantile19[1][0]) & (F.col(\"Frequency\") <= quantile19[1][1]), \"2\")\\\n",
        " .when((F.col(\"Frequency\") > quantile19[1][1]) & (F.col(\"Frequency\") <= quantile19[1][2]), \"3\").otherwise(\"4\"))"
      ],
      "execution_count": null,
      "outputs": []
    },
    {
      "cell_type": "code",
      "metadata": {
        "id": "DVY6Jtgk8BZ1"
      },
      "source": [
        "rfm_table319 = rfm_table219.withColumn(\"m_quantile\", F.when((F.col(\"Monetary\") >= 0) & (F.col(\"Monetary\") <= quantile19[2][0]), \"1\")\\\n",
        " .when((F.col(\"Monetary\") > quantile19[2][0]) & (F.col(\"Monetary\") <= quantile19[2][1]), \"2\")\\\n",
        " .when((F.col(\"Monetary\") > quantile19[2][1]) & (F.col(\"Monetary\") <= quantile19[2][2]), \"3\").otherwise(\"4\"))"
      ],
      "execution_count": null,
      "outputs": []
    },
    {
      "cell_type": "code",
      "metadata": {
        "id": "-MIkrjFt8P6M"
      },
      "source": [
        "def rfm_score(r,f,m):\n",
        " value = \"{0}{1}{2}\".format(r,f,m)\n",
        " return value\n",
        "return_rfm_score_udf = F.udf(rfm_score)\n",
        "outp19 = rfm_table319.withColumn(\"RFMScore\", return_rfm_score_udf(F.col(\"r_quantile\"),F.col(\"f_quantile\"),F.col(\"m_quantile\")))"
      ],
      "execution_count": null,
      "outputs": []
    },
    {
      "cell_type": "markdown",
      "metadata": {
        "id": "Syjza3AF8VuV"
      },
      "source": [
        "#RFM Sellint2019"
      ]
    },
    {
      "cell_type": "code",
      "metadata": {
        "id": "i0xJSjQ-8QB2",
        "outputId": "bff61d64-8820-4985-93be-f6e76040892c",
        "colab": {
          "base_uri": "https://localhost:8080/",
          "height": 419
        }
      },
      "source": [
        "outp19.sort(\"RFMScore\", ascending=False).toPandas()"
      ],
      "execution_count": null,
      "outputs": [
        {
          "output_type": "execute_result",
          "data": {
            "text/html": [
              "<div>\n",
              "<style scoped>\n",
              "    .dataframe tbody tr th:only-of-type {\n",
              "        vertical-align: middle;\n",
              "    }\n",
              "\n",
              "    .dataframe tbody tr th {\n",
              "        vertical-align: top;\n",
              "    }\n",
              "\n",
              "    .dataframe thead th {\n",
              "        text-align: right;\n",
              "    }\n",
              "</style>\n",
              "<table border=\"1\" class=\"dataframe\">\n",
              "  <thead>\n",
              "    <tr style=\"text-align: right;\">\n",
              "      <th></th>\n",
              "      <th>SKU</th>\n",
              "      <th>Recency</th>\n",
              "      <th>Frequency</th>\n",
              "      <th>Monetary</th>\n",
              "      <th>r_quantile</th>\n",
              "      <th>f_quantile</th>\n",
              "      <th>m_quantile</th>\n",
              "      <th>RFMScore</th>\n",
              "    </tr>\n",
              "  </thead>\n",
              "  <tbody>\n",
              "    <tr>\n",
              "      <th>0</th>\n",
              "      <td>7 Up3 LtsPetLima Limon</td>\n",
              "      <td>346</td>\n",
              "      <td>284</td>\n",
              "      <td>27673973.36</td>\n",
              "      <td>4</td>\n",
              "      <td>4</td>\n",
              "      <td>4</td>\n",
              "      <td>444</td>\n",
              "    </tr>\n",
              "    <tr>\n",
              "      <th>1</th>\n",
              "      <td>Mzna Sol600 MlPetManzana</td>\n",
              "      <td>346</td>\n",
              "      <td>593</td>\n",
              "      <td>88057772.86</td>\n",
              "      <td>4</td>\n",
              "      <td>4</td>\n",
              "      <td>4</td>\n",
              "      <td>444</td>\n",
              "    </tr>\n",
              "    <tr>\n",
              "      <th>2</th>\n",
              "      <td>Be Light1.5 LtsPetLimon</td>\n",
              "      <td>346</td>\n",
              "      <td>366</td>\n",
              "      <td>54245444.12</td>\n",
              "      <td>4</td>\n",
              "      <td>4</td>\n",
              "      <td>4</td>\n",
              "      <td>444</td>\n",
              "    </tr>\n",
              "    <tr>\n",
              "      <th>3</th>\n",
              "      <td>Gatorade0.5 LtsPetNaranja</td>\n",
              "      <td>346</td>\n",
              "      <td>247</td>\n",
              "      <td>17988194.36</td>\n",
              "      <td>4</td>\n",
              "      <td>4</td>\n",
              "      <td>4</td>\n",
              "      <td>444</td>\n",
              "    </tr>\n",
              "    <tr>\n",
              "      <th>4</th>\n",
              "      <td>Mzna Sol2 LtsPetManzana</td>\n",
              "      <td>346</td>\n",
              "      <td>425</td>\n",
              "      <td>57231042.61</td>\n",
              "      <td>4</td>\n",
              "      <td>4</td>\n",
              "      <td>4</td>\n",
              "      <td>444</td>\n",
              "    </tr>\n",
              "    <tr>\n",
              "      <th>...</th>\n",
              "      <td>...</td>\n",
              "      <td>...</td>\n",
              "      <td>...</td>\n",
              "      <td>...</td>\n",
              "      <td>...</td>\n",
              "      <td>...</td>\n",
              "      <td>...</td>\n",
              "      <td>...</td>\n",
              "    </tr>\n",
              "    <tr>\n",
              "      <th>356</th>\n",
              "      <td>Be Light0.5 LtsPetManzana</td>\n",
              "      <td>649</td>\n",
              "      <td>1</td>\n",
              "      <td>45.52</td>\n",
              "      <td>1</td>\n",
              "      <td>1</td>\n",
              "      <td>1</td>\n",
              "      <td>111</td>\n",
              "    </tr>\n",
              "    <tr>\n",
              "      <th>357</th>\n",
              "      <td>PepsiJgoLim2 LtsPetColaJugoL</td>\n",
              "      <td>621</td>\n",
              "      <td>1</td>\n",
              "      <td>324.00</td>\n",
              "      <td>1</td>\n",
              "      <td>1</td>\n",
              "      <td>1</td>\n",
              "      <td>111</td>\n",
              "    </tr>\n",
              "    <tr>\n",
              "      <th>358</th>\n",
              "      <td>7 Up Limonada355 MlPetLimMin</td>\n",
              "      <td>468</td>\n",
              "      <td>2</td>\n",
              "      <td>135.78</td>\n",
              "      <td>1</td>\n",
              "      <td>1</td>\n",
              "      <td>1</td>\n",
              "      <td>111</td>\n",
              "    </tr>\n",
              "    <tr>\n",
              "      <th>359</th>\n",
              "      <td>Jarritos600 MlPetJamaica</td>\n",
              "      <td>649</td>\n",
              "      <td>2</td>\n",
              "      <td>500.98</td>\n",
              "      <td>1</td>\n",
              "      <td>1</td>\n",
              "      <td>1</td>\n",
              "      <td>111</td>\n",
              "    </tr>\n",
              "    <tr>\n",
              "      <th>360</th>\n",
              "      <td>Lipton Light600 MlPetT� Helado Light</td>\n",
              "      <td>376</td>\n",
              "      <td>2</td>\n",
              "      <td>161.38</td>\n",
              "      <td>1</td>\n",
              "      <td>1</td>\n",
              "      <td>1</td>\n",
              "      <td>111</td>\n",
              "    </tr>\n",
              "  </tbody>\n",
              "</table>\n",
              "<p>361 rows × 8 columns</p>\n",
              "</div>"
            ],
            "text/plain": [
              "                                      SKU  Recency  ...  m_quantile  RFMScore\n",
              "0                  7 Up3 LtsPetLima Limon      346  ...           4       444\n",
              "1                Mzna Sol600 MlPetManzana      346  ...           4       444\n",
              "2                 Be Light1.5 LtsPetLimon      346  ...           4       444\n",
              "3               Gatorade0.5 LtsPetNaranja      346  ...           4       444\n",
              "4                 Mzna Sol2 LtsPetManzana      346  ...           4       444\n",
              "..                                    ...      ...  ...         ...       ...\n",
              "356             Be Light0.5 LtsPetManzana      649  ...           1       111\n",
              "357          PepsiJgoLim2 LtsPetColaJugoL      621  ...           1       111\n",
              "358          7 Up Limonada355 MlPetLimMin      468  ...           1       111\n",
              "359              Jarritos600 MlPetJamaica      649  ...           1       111\n",
              "360  Lipton Light600 MlPetT� Helado Light      376  ...           1       111\n",
              "\n",
              "[361 rows x 8 columns]"
            ]
          },
          "metadata": {
            "tags": []
          },
          "execution_count": 35
        }
      ]
    },
    {
      "cell_type": "markdown",
      "metadata": {
        "id": "9Ng9L6hfy4JS"
      },
      "source": [
        "#Sellint 2020"
      ]
    },
    {
      "cell_type": "code",
      "metadata": {
        "id": "zYrpe9Bb92H4"
      },
      "source": [
        "Sellint20 = Sellint.filter(F.substring(\"PERIODO\",5,2) == 20)\n",
        "Sellint20K = Sellint20.withColumn(\"SKU\", F.concat(F.trim(\"MARCA\"),F.trim(\"PRESENTACION\"),F.trim(\"TIPO_ENVASE\"), F.trim(\"SABOR\")))\n",
        "Sellint20S = Sellint20K.withColumn(\"date\", F.when((F.col(\"PERIODO\") == \"Jan-20\"), F.lit(\"01-20\"))\n",
        ".when((F.col(\"PERIODO\") == \"Feb-20\"), F.lit(\"02-20\"))\n",
        ".when((F.col(\"PERIODO\") == \"Mar-20\"), F.lit(\"03-20\"))\n",
        ".when((F.col(\"PERIODO\") == \"Apr-20\"), F.lit(\"04-20\"))\n",
        ".when((F.col(\"PERIODO\") == \"May-20\"), F.lit(\"05-20\"))\n",
        ".when((F.col(\"PERIODO\") == \"Jun-20\"), F.lit(\"06-20\"))\n",
        ".when((F.col(\"PERIODO\") == \"Jul-20\"), F.lit(\"07-20\"))\n",
        ".when((F.col(\"PERIODO\") == \"Aug-20\"), F.lit(\"08-20\"))\n",
        ".when((F.col(\"PERIODO\") == \"Sep-20\"), F.lit(\"09-20\"))\n",
        ".when((F.col(\"PERIODO\") == \"Oct-20\"), F.lit(\"10-20\"))\n",
        ".when((F.col(\"PERIODO\") == \"Nov-20\"), F.lit(\"11-20\"))\n",
        ".when((F.col(\"PERIODO\") == \"Dec-20\"), F.lit(\"12-20\")).otherwise(None))"
      ],
      "execution_count": null,
      "outputs": []
    },
    {
      "cell_type": "code",
      "metadata": {
        "id": "aLIW8Dn192bx"
      },
      "source": [
        "df6 = Sellint20S.withColumn(\"datee\", F.to_date(F.from_unixtime(F.unix_timestamp(\"date\", \"MM-yy\"))).cast(\"date\")).sort(\"COMPRAS\", ascending=False)\n",
        "df6 = df6.withColumn(\"amount_total\", F.col(\"INGRESO\"))"
      ],
      "execution_count": null,
      "outputs": []
    },
    {
      "cell_type": "code",
      "metadata": {
        "id": "OnyKPwvi92jZ"
      },
      "source": [
        "recency_df = df6.groupBy(\"SKU\").agg(F.max(\"datee\").alias(\"LastPurshaceDate\"))\n",
        "recency_df = recency_df.withColumn(\"date\", F.lit(now))\n",
        "recency_df = recency_df.withColumn(\"recency\", F.datediff(F.to_date(recency_df[\"date\"]),F.to_date(recency_df[\"LastPurshaceDate\"]))).sort(\"recency\")\n",
        "recency_df = recency_df.select(\"SKU\", \"Recency\")"
      ],
      "execution_count": null,
      "outputs": []
    },
    {
      "cell_type": "code",
      "metadata": {
        "id": "o3vZS6oM92pK"
      },
      "source": [
        "frequency_df = df6.dropDuplicates([\"COMPRAS\", \"SKU\"])\n",
        "frequency_df = frequency_df.groupBy(\"SKU\").agg(F.count(\"*\").alias(\"Frequency\"))\n",
        "frequency_df = frequency_df.select(\"SKU\", \"Frequency\")"
      ],
      "execution_count": null,
      "outputs": []
    },
    {
      "cell_type": "code",
      "metadata": {
        "id": "KLlA0-e893Pr"
      },
      "source": [
        "monetary_df = df6.dropDuplicates([\"COMPRAS\", \"SKU\"])\n",
        "monetary_df = monetary_df.groupBy(\"SKU\").agg(F.sum(\"amount_total\").alias(\"Monetary\"))\n",
        "monetary_df = monetary_df.select(\"SKU\", \"Monetary\")"
      ],
      "execution_count": null,
      "outputs": []
    },
    {
      "cell_type": "code",
      "metadata": {
        "id": "M0inkw_a92nw"
      },
      "source": [
        "rfm_table = recency_df.join(frequency_df, \"SKU\").sort(\"SKU\")\n",
        "rfm_table = rfm_table.join(monetary_df, \"SKU\").sort(\"SKU\")"
      ],
      "execution_count": null,
      "outputs": []
    },
    {
      "cell_type": "code",
      "metadata": {
        "id": "flhqimNp-Pm1"
      },
      "source": [
        "quantile = rfm_table.approxQuantile([\"Recency\", \"Frequency\", \"Monetary\"], [0.25, 0.5, 0.75], 0)"
      ],
      "execution_count": null,
      "outputs": []
    },
    {
      "cell_type": "code",
      "metadata": {
        "id": "hFuggKfy-Prk"
      },
      "source": [
        "rfm_table2 = rfm_table.withColumn(\"r_quantile\", F.when((F.col(\"Recency\") >= 0) & (F.col(\"Recency\") <= quantile[0][0]), \"4\")\\\n",
        "                                  .when((F.col(\"Recency\") > quantile[0][0]) & (F.col(\"Recency\") <= quantile[0][1]), \"3\")\\\n",
        "                                  .when((F.col(\"Recency\") > quantile[0][1]) & (F.col(\"Recency\") <= quantile[0][2]), \"2\").otherwise(\"1\"))"
      ],
      "execution_count": null,
      "outputs": []
    },
    {
      "cell_type": "code",
      "metadata": {
        "id": "Lrh6Hg25-PxK"
      },
      "source": [
        "rfm_table2 = rfm_table2.withColumn(\"f_quantile\", F.when((F.col(\"Frequency\") >= 0) & (F.col(\"Frequency\") <= quantile[1][0]), \"1\")\\\n",
        " .when((F.col(\"Frequency\") > quantile[1][0]) & (F.col(\"Frequency\") <= quantile[1][1]), \"2\")\\\n",
        " .when((F.col(\"Frequency\") > quantile[1][1]) & (F.col(\"Frequency\") <= quantile[1][2]), \"3\").otherwise(\"4\"))"
      ],
      "execution_count": null,
      "outputs": []
    },
    {
      "cell_type": "code",
      "metadata": {
        "id": "DnacLwgT-Pvj"
      },
      "source": [
        "rfm_table20 = rfm_table2.withColumn(\"m_quantile\", F.when((F.col(\"Monetary\") >= 0) & (F.col(\"Monetary\") <= quantile[2][0]), \"1\")\\\n",
        " .when((F.col(\"Monetary\") > quantile[2][0]) & (F.col(\"Monetary\") <= quantile[2][1]), \"2\")\\\n",
        " .when((F.col(\"Monetary\") > quantile[2][1]) & (F.col(\"Monetary\") <= quantile[2][2]), \"3\").otherwise(\"4\"))"
      ],
      "execution_count": null,
      "outputs": []
    },
    {
      "cell_type": "code",
      "metadata": {
        "id": "9P2hsNxt8QGR"
      },
      "source": [
        "def rfm_score(r,f,m):\n",
        " value = \"{0}{1}{2}\".format(r,f,m)\n",
        " return value\n",
        "return_rfm_score_udf = F.udf(rfm_score)\n",
        "outp = rfm_table20.withColumn(\"RFMScore\", return_rfm_score_udf(F.col(\"r_quantile\"),F.col(\"f_quantile\"),F.col(\"m_quantile\")))"
      ],
      "execution_count": null,
      "outputs": []
    },
    {
      "cell_type": "markdown",
      "metadata": {
        "id": "2DGv1ADk-dSp"
      },
      "source": [
        "#RFM Sellint2020"
      ]
    },
    {
      "cell_type": "code",
      "metadata": {
        "id": "_xsmhfWA-dgX",
        "outputId": "b883a6e1-e3f7-433a-ef54-511d5bd7f9d0",
        "colab": {
          "base_uri": "https://localhost:8080/",
          "height": 419
        }
      },
      "source": [
        "outp.sort(\"RFMScore\", ascending=False).toPandas()"
      ],
      "execution_count": null,
      "outputs": [
        {
          "output_type": "execute_result",
          "data": {
            "text/html": [
              "<div>\n",
              "<style scoped>\n",
              "    .dataframe tbody tr th:only-of-type {\n",
              "        vertical-align: middle;\n",
              "    }\n",
              "\n",
              "    .dataframe tbody tr th {\n",
              "        vertical-align: top;\n",
              "    }\n",
              "\n",
              "    .dataframe thead th {\n",
              "        text-align: right;\n",
              "    }\n",
              "</style>\n",
              "<table border=\"1\" class=\"dataframe\">\n",
              "  <thead>\n",
              "    <tr style=\"text-align: right;\">\n",
              "      <th></th>\n",
              "      <th>SKU</th>\n",
              "      <th>Recency</th>\n",
              "      <th>Frequency</th>\n",
              "      <th>Monetary</th>\n",
              "      <th>r_quantile</th>\n",
              "      <th>f_quantile</th>\n",
              "      <th>m_quantile</th>\n",
              "      <th>RFMScore</th>\n",
              "    </tr>\n",
              "  </thead>\n",
              "  <tbody>\n",
              "    <tr>\n",
              "      <th>0</th>\n",
              "      <td>7 Up3 LtsPetLima Limon</td>\n",
              "      <td>71</td>\n",
              "      <td>244</td>\n",
              "      <td>2.030724e+07</td>\n",
              "      <td>4</td>\n",
              "      <td>4</td>\n",
              "      <td>4</td>\n",
              "      <td>444</td>\n",
              "    </tr>\n",
              "    <tr>\n",
              "      <th>1</th>\n",
              "      <td>Mzna Sol600 MlPetManzana</td>\n",
              "      <td>71</td>\n",
              "      <td>473</td>\n",
              "      <td>6.007878e+07</td>\n",
              "      <td>4</td>\n",
              "      <td>4</td>\n",
              "      <td>4</td>\n",
              "      <td>444</td>\n",
              "    </tr>\n",
              "    <tr>\n",
              "      <th>2</th>\n",
              "      <td>Be Light1.5 LtsPetLimon</td>\n",
              "      <td>71</td>\n",
              "      <td>334</td>\n",
              "      <td>4.874636e+07</td>\n",
              "      <td>4</td>\n",
              "      <td>4</td>\n",
              "      <td>4</td>\n",
              "      <td>444</td>\n",
              "    </tr>\n",
              "    <tr>\n",
              "      <th>3</th>\n",
              "      <td>Epura1.5 LtsPetAgua Natural</td>\n",
              "      <td>71</td>\n",
              "      <td>390</td>\n",
              "      <td>2.103038e+08</td>\n",
              "      <td>4</td>\n",
              "      <td>4</td>\n",
              "      <td>4</td>\n",
              "      <td>444</td>\n",
              "    </tr>\n",
              "    <tr>\n",
              "      <th>4</th>\n",
              "      <td>Mzna Sol2 LtsPetManzana</td>\n",
              "      <td>71</td>\n",
              "      <td>357</td>\n",
              "      <td>3.157846e+07</td>\n",
              "      <td>4</td>\n",
              "      <td>4</td>\n",
              "      <td>4</td>\n",
              "      <td>444</td>\n",
              "    </tr>\n",
              "    <tr>\n",
              "      <th>...</th>\n",
              "      <td>...</td>\n",
              "      <td>...</td>\n",
              "      <td>...</td>\n",
              "      <td>...</td>\n",
              "      <td>...</td>\n",
              "      <td>...</td>\n",
              "      <td>...</td>\n",
              "      <td>...</td>\n",
              "    </tr>\n",
              "    <tr>\n",
              "      <th>338</th>\n",
              "      <td>Gatorade70 GrStyroluxPonche</td>\n",
              "      <td>133</td>\n",
              "      <td>2</td>\n",
              "      <td>4.853757e+04</td>\n",
              "      <td>1</td>\n",
              "      <td>1</td>\n",
              "      <td>1</td>\n",
              "      <td>111</td>\n",
              "    </tr>\n",
              "    <tr>\n",
              "      <th>339</th>\n",
              "      <td>Jarritos1.5 LtsPetMultisabor</td>\n",
              "      <td>315</td>\n",
              "      <td>1</td>\n",
              "      <td>1.245100e+02</td>\n",
              "      <td>1</td>\n",
              "      <td>1</td>\n",
              "      <td>1</td>\n",
              "      <td>111</td>\n",
              "    </tr>\n",
              "    <tr>\n",
              "      <th>340</th>\n",
              "      <td>Sangria Casera10 OzGrbSangria</td>\n",
              "      <td>194</td>\n",
              "      <td>1</td>\n",
              "      <td>1.488000e+02</td>\n",
              "      <td>1</td>\n",
              "      <td>1</td>\n",
              "      <td>1</td>\n",
              "      <td>111</td>\n",
              "    </tr>\n",
              "    <tr>\n",
              "      <th>341</th>\n",
              "      <td>Manzanada600 MlPetManzanada</td>\n",
              "      <td>284</td>\n",
              "      <td>2</td>\n",
              "      <td>3.240000e+02</td>\n",
              "      <td>1</td>\n",
              "      <td>1</td>\n",
              "      <td>1</td>\n",
              "      <td>111</td>\n",
              "    </tr>\n",
              "    <tr>\n",
              "      <th>342</th>\n",
              "      <td>Lipton Light600 MlPetT� Helado Light</td>\n",
              "      <td>133</td>\n",
              "      <td>4</td>\n",
              "      <td>4.733790e+03</td>\n",
              "      <td>1</td>\n",
              "      <td>1</td>\n",
              "      <td>1</td>\n",
              "      <td>111</td>\n",
              "    </tr>\n",
              "  </tbody>\n",
              "</table>\n",
              "<p>343 rows × 8 columns</p>\n",
              "</div>"
            ],
            "text/plain": [
              "                                      SKU  Recency  ...  m_quantile  RFMScore\n",
              "0                  7 Up3 LtsPetLima Limon       71  ...           4       444\n",
              "1                Mzna Sol600 MlPetManzana       71  ...           4       444\n",
              "2                 Be Light1.5 LtsPetLimon       71  ...           4       444\n",
              "3             Epura1.5 LtsPetAgua Natural       71  ...           4       444\n",
              "4                 Mzna Sol2 LtsPetManzana       71  ...           4       444\n",
              "..                                    ...      ...  ...         ...       ...\n",
              "338           Gatorade70 GrStyroluxPonche      133  ...           1       111\n",
              "339          Jarritos1.5 LtsPetMultisabor      315  ...           1       111\n",
              "340         Sangria Casera10 OzGrbSangria      194  ...           1       111\n",
              "341           Manzanada600 MlPetManzanada      284  ...           1       111\n",
              "342  Lipton Light600 MlPetT� Helado Light      133  ...           1       111\n",
              "\n",
              "[343 rows x 8 columns]"
            ]
          },
          "metadata": {
            "tags": []
          },
          "execution_count": 47
        }
      ]
    },
    {
      "cell_type": "markdown",
      "metadata": {
        "id": "96ROGp26x1Gm"
      },
      "source": [
        "#Segmentación Sellout"
      ]
    },
    {
      "cell_type": "markdown",
      "metadata": {
        "id": "TyQspnurL-qb"
      },
      "source": [
        "#Sellout2018"
      ]
    },
    {
      "cell_type": "code",
      "metadata": {
        "id": "M7XGiMxvMBQk"
      },
      "source": [
        "SelloutProductos18 = Sellout2018.join(productos, Sellout2018.UPC == productos.CODIGOBARRAS,  \"inner\")"
      ],
      "execution_count": null,
      "outputs": []
    },
    {
      "cell_type": "code",
      "metadata": {
        "id": "0MLldQnLMBOJ"
      },
      "source": [
        "Sellout18K = SelloutProductos18.withColumn(\"SKU\", F.concat(F.trim(\"MARCA\"),F.trim(\"PRESENTACION\"),F.trim(\"TIPO_ENVASE\"), F.trim(\"SABOR\")))\n",
        "Sellout18M = Sellout18K.withColumn(\"mes\", F.substring(\"FECHA\",4,3))\n",
        "Sellint18S = Sellout18M.withColumn(\"mm\", F.when((F.col(\"mes\") == \"JAN\"), F.lit(\"01\"))\n",
        ".when((F.col(\"mes\") == \"FEB\"), F.lit(\"02\"))\n",
        ".when((F.col(\"mes\") == \"MAR\"), F.lit(\"03\"))\n",
        ".when((F.col(\"mes\") == \"APR\"), F.lit(\"04\"))\n",
        ".when((F.col(\"mes\") == \"MAY\"), F.lit(\"05\"))\n",
        ".when((F.col(\"mes\") == \"JUN\"), F.lit(\"06\"))\n",
        ".when((F.col(\"mes\") == \"JUL\"), F.lit(\"07\"))\n",
        ".when((F.col(\"mes\") == \"AUG\"), F.lit(\"08\"))\n",
        ".when((F.col(\"mes\") == \"SEP\"), F.lit(\"09\"))\n",
        ".when((F.col(\"mes\") == \"OCT\"), F.lit(\"10\"))\n",
        ".when((F.col(\"mes\") == \"NOV\"), F.lit(\"11\"))\n",
        ".when((F.col(\"mes\") == \"DEC\"), F.lit(\"12\")).otherwise(None))\n",
        "Sellint18F = Sellint18S.withColumn(\"FECHA1\", F.concat(F.substring(\"FECHA\",1,3),\"mm\",F.substring(\"FECHA\",7,3)))"
      ],
      "execution_count": null,
      "outputs": []
    },
    {
      "cell_type": "code",
      "metadata": {
        "id": "MFdEqJ9pMIWt"
      },
      "source": [
        "df6 = Sellint18F.withColumn(\"datee\", F.to_date(F.from_unixtime(F.unix_timestamp(\"FECHA1\", \"dd-MM-yy\"))).cast(\"date\")).sort(\"VENTA_UNIDADES\", ascending=False)\n",
        "df6 = df6.withColumn(\"amount_total\", F.col(\"Venta_IMPORTE\"))"
      ],
      "execution_count": null,
      "outputs": []
    },
    {
      "cell_type": "code",
      "metadata": {
        "id": "D1wrtFqOMI91"
      },
      "source": [
        "recency_df = df6.groupBy(\"SKU\").agg(F.max(\"datee\").alias(\"LastPurshaceDate\"))\n",
        "recency_df = recency_df.withColumn(\"date\", F.lit(now))\n",
        "recency_df = recency_df.withColumn(\"recency\", F.datediff(F.to_date(recency_df[\"date\"]),F.to_date(recency_df[\"LastPurshaceDate\"]))).sort(\"recency\")\n",
        "recency_df = recency_df.select(\"SKU\", \"Recency\")"
      ],
      "execution_count": null,
      "outputs": []
    },
    {
      "cell_type": "code",
      "metadata": {
        "id": "KIeXF4YRMJ8r"
      },
      "source": [
        "frequency_df = df6.dropDuplicates([\"VENTA_UNIDADES\", \"SKU\"])\n",
        "frequency_df = frequency_df.groupBy(\"SKU\").agg(F.count(\"*\").alias(\"Frequency\"))\n",
        "frequency_df = frequency_df.select(\"SKU\", \"Frequency\")"
      ],
      "execution_count": null,
      "outputs": []
    },
    {
      "cell_type": "code",
      "metadata": {
        "id": "5koHFVNDMJ3L"
      },
      "source": [
        "monetary_df = df6.dropDuplicates([\"VENTA_UNIDADES\", \"SKU\"])\n",
        "monetary_df = monetary_df.groupBy(\"SKU\").agg(F.sum(\"amount_total\").alias(\"Monetary\"))\n",
        "monetary_df = monetary_df.select(\"SKU\", \"Monetary\")"
      ],
      "execution_count": null,
      "outputs": []
    },
    {
      "cell_type": "code",
      "metadata": {
        "id": "3r_0yZ3jMI5w"
      },
      "source": [
        "rfm_table = recency_df.join(frequency_df, \"SKU\").sort(\"SKU\")\n",
        "rfm_table = rfm_table.join(monetary_df, \"SKU\").sort(\"SKU\")"
      ],
      "execution_count": null,
      "outputs": []
    },
    {
      "cell_type": "code",
      "metadata": {
        "id": "7dml-pR4MIz5"
      },
      "source": [
        "quantile = rfm_table.approxQuantile([\"Recency\", \"Frequency\", \"Monetary\"], [0.25, 0.5, 0.75], 0)"
      ],
      "execution_count": null,
      "outputs": []
    },
    {
      "cell_type": "code",
      "metadata": {
        "id": "MMfL7TOLMIv1"
      },
      "source": [
        "rfm_table2 = rfm_table.withColumn(\"r_quantile\", F.when((F.col(\"Recency\") >= 0) & (F.col(\"Recency\") <= quantile[0][0]), \"4\")\\\n",
        "                                  .when((F.col(\"Recency\") > quantile[0][0]) & (F.col(\"Recency\") <= quantile[0][1]), \"3\")\\\n",
        "                                  .when((F.col(\"Recency\") > quantile[0][1]) & (F.col(\"Recency\") <= quantile[0][2]), \"2\").otherwise(\"1\"))"
      ],
      "execution_count": null,
      "outputs": []
    },
    {
      "cell_type": "code",
      "metadata": {
        "id": "TbIIuBP6MIRl"
      },
      "source": [
        "rfm_table2 = rfm_table2.withColumn(\"f_quantile\", F.when((F.col(\"Frequency\") >= 0) & (F.col(\"Frequency\") <= quantile[1][0]), \"1\")\\\n",
        " .when((F.col(\"Frequency\") > quantile[1][0]) & (F.col(\"Frequency\") <= quantile[1][1]), \"2\")\\\n",
        " .when((F.col(\"Frequency\") > quantile[1][1]) & (F.col(\"Frequency\") <= quantile[1][2]), \"3\").otherwise(\"4\"))"
      ],
      "execution_count": null,
      "outputs": []
    },
    {
      "cell_type": "code",
      "metadata": {
        "id": "B0auYWPK4MNI"
      },
      "source": [
        "rfm_tableo18 = rfm_table2.withColumn(\"m_quantile\", F.when((F.col(\"Monetary\") >= 0) & (F.col(\"Monetary\") <= quantile[2][0]), \"1\")\\\n",
        " .when((F.col(\"Monetary\") > quantile[2][0]) & (F.col(\"Monetary\") <= quantile[2][1]), \"2\")\\\n",
        " .when((F.col(\"Monetary\") > quantile[2][1]) & (F.col(\"Monetary\") <= quantile[2][2]), \"3\").otherwise(\"4\"))"
      ],
      "execution_count": null,
      "outputs": []
    },
    {
      "cell_type": "code",
      "metadata": {
        "id": "EqfakKaDMINk"
      },
      "source": [
        "def rfm_score(r,f,m):\n",
        " value = \"{0}{1}{2}\".format(r,f,m)\n",
        " return value\n",
        "return_rfm_score_udf = F.udf(rfm_score)\n",
        "outp = rfm_tableo18.withColumn(\"RFMScore\", return_rfm_score_udf(F.col(\"r_quantile\"),F.col(\"f_quantile\"),F.col(\"m_quantile\")))"
      ],
      "execution_count": null,
      "outputs": []
    },
    {
      "cell_type": "markdown",
      "metadata": {
        "id": "eBRjd3BsMsTU"
      },
      "source": [
        "# RFM Sellout 2018"
      ]
    },
    {
      "cell_type": "code",
      "metadata": {
        "id": "x6VpsPz_MIKZ",
        "outputId": "5a288e93-6d3c-434b-a351-4b2c054c88ea",
        "colab": {
          "base_uri": "https://localhost:8080/",
          "height": 419
        }
      },
      "source": [
        "outp.sort(\"RFMScore\", ascending=False).toPandas()"
      ],
      "execution_count": null,
      "outputs": [
        {
          "output_type": "execute_result",
          "data": {
            "text/html": [
              "<div>\n",
              "<style scoped>\n",
              "    .dataframe tbody tr th:only-of-type {\n",
              "        vertical-align: middle;\n",
              "    }\n",
              "\n",
              "    .dataframe tbody tr th {\n",
              "        vertical-align: top;\n",
              "    }\n",
              "\n",
              "    .dataframe thead th {\n",
              "        text-align: right;\n",
              "    }\n",
              "</style>\n",
              "<table border=\"1\" class=\"dataframe\">\n",
              "  <thead>\n",
              "    <tr style=\"text-align: right;\">\n",
              "      <th></th>\n",
              "      <th>SKU</th>\n",
              "      <th>Recency</th>\n",
              "      <th>Frequency</th>\n",
              "      <th>Monetary</th>\n",
              "      <th>r_quantile</th>\n",
              "      <th>f_quantile</th>\n",
              "      <th>m_quantile</th>\n",
              "      <th>RFMScore</th>\n",
              "    </tr>\n",
              "  </thead>\n",
              "  <tbody>\n",
              "    <tr>\n",
              "      <th>0</th>\n",
              "      <td>7 Up3 LtsPetLima Limon</td>\n",
              "      <td>681</td>\n",
              "      <td>136</td>\n",
              "      <td>182890.1453</td>\n",
              "      <td>4</td>\n",
              "      <td>4</td>\n",
              "      <td>4</td>\n",
              "      <td>444</td>\n",
              "    </tr>\n",
              "    <tr>\n",
              "      <th>1</th>\n",
              "      <td>Mzna Sol600 MlPetManzana</td>\n",
              "      <td>681</td>\n",
              "      <td>268</td>\n",
              "      <td>410903.0367</td>\n",
              "      <td>4</td>\n",
              "      <td>4</td>\n",
              "      <td>4</td>\n",
              "      <td>444</td>\n",
              "    </tr>\n",
              "    <tr>\n",
              "      <th>2</th>\n",
              "      <td>Be Light1.5 LtsPetLimon</td>\n",
              "      <td>681</td>\n",
              "      <td>189</td>\n",
              "      <td>158780.6976</td>\n",
              "      <td>4</td>\n",
              "      <td>4</td>\n",
              "      <td>4</td>\n",
              "      <td>444</td>\n",
              "    </tr>\n",
              "    <tr>\n",
              "      <th>3</th>\n",
              "      <td>Mzna Sol2 LtsPetManzana</td>\n",
              "      <td>681</td>\n",
              "      <td>144</td>\n",
              "      <td>213524.3702</td>\n",
              "      <td>4</td>\n",
              "      <td>4</td>\n",
              "      <td>4</td>\n",
              "      <td>444</td>\n",
              "    </tr>\n",
              "    <tr>\n",
              "      <th>4</th>\n",
              "      <td>Gatorade600 MlPetLima Limon</td>\n",
              "      <td>681</td>\n",
              "      <td>242</td>\n",
              "      <td>507520.3428</td>\n",
              "      <td>4</td>\n",
              "      <td>4</td>\n",
              "      <td>4</td>\n",
              "      <td>444</td>\n",
              "    </tr>\n",
              "    <tr>\n",
              "      <th>...</th>\n",
              "      <td>...</td>\n",
              "      <td>...</td>\n",
              "      <td>...</td>\n",
              "      <td>...</td>\n",
              "      <td>...</td>\n",
              "      <td>...</td>\n",
              "      <td>...</td>\n",
              "      <td>...</td>\n",
              "    </tr>\n",
              "    <tr>\n",
              "      <th>357</th>\n",
              "      <td>Ok600 MlPetDurazno</td>\n",
              "      <td>689</td>\n",
              "      <td>1</td>\n",
              "      <td>4.3100</td>\n",
              "      <td>1</td>\n",
              "      <td>1</td>\n",
              "      <td>1</td>\n",
              "      <td>111</td>\n",
              "    </tr>\n",
              "    <tr>\n",
              "      <th>358</th>\n",
              "      <td>CosechaPur200 MlTetra PackManzana</td>\n",
              "      <td>949</td>\n",
              "      <td>1</td>\n",
              "      <td>3.1000</td>\n",
              "      <td>1</td>\n",
              "      <td>1</td>\n",
              "      <td>1</td>\n",
              "      <td>111</td>\n",
              "    </tr>\n",
              "    <tr>\n",
              "      <th>359</th>\n",
              "      <td>Aguas Frescas3 LtsPetJamaica</td>\n",
              "      <td>780</td>\n",
              "      <td>1</td>\n",
              "      <td>7.7400</td>\n",
              "      <td>1</td>\n",
              "      <td>1</td>\n",
              "      <td>1</td>\n",
              "      <td>111</td>\n",
              "    </tr>\n",
              "    <tr>\n",
              "      <th>360</th>\n",
              "      <td>JumexFresh1.5 LtsPetConga</td>\n",
              "      <td>900</td>\n",
              "      <td>1</td>\n",
              "      <td>0.6500</td>\n",
              "      <td>1</td>\n",
              "      <td>1</td>\n",
              "      <td>1</td>\n",
              "      <td>111</td>\n",
              "    </tr>\n",
              "    <tr>\n",
              "      <th>361</th>\n",
              "      <td>Jarritos600 MlPetCitrus</td>\n",
              "      <td>709</td>\n",
              "      <td>4</td>\n",
              "      <td>69.8300</td>\n",
              "      <td>1</td>\n",
              "      <td>1</td>\n",
              "      <td>1</td>\n",
              "      <td>111</td>\n",
              "    </tr>\n",
              "  </tbody>\n",
              "</table>\n",
              "<p>362 rows × 8 columns</p>\n",
              "</div>"
            ],
            "text/plain": [
              "                                   SKU  Recency  ...  m_quantile  RFMScore\n",
              "0               7 Up3 LtsPetLima Limon      681  ...           4       444\n",
              "1             Mzna Sol600 MlPetManzana      681  ...           4       444\n",
              "2              Be Light1.5 LtsPetLimon      681  ...           4       444\n",
              "3              Mzna Sol2 LtsPetManzana      681  ...           4       444\n",
              "4          Gatorade600 MlPetLima Limon      681  ...           4       444\n",
              "..                                 ...      ...  ...         ...       ...\n",
              "357                 Ok600 MlPetDurazno      689  ...           1       111\n",
              "358  CosechaPur200 MlTetra PackManzana      949  ...           1       111\n",
              "359       Aguas Frescas3 LtsPetJamaica      780  ...           1       111\n",
              "360          JumexFresh1.5 LtsPetConga      900  ...           1       111\n",
              "361            Jarritos600 MlPetCitrus      709  ...           1       111\n",
              "\n",
              "[362 rows x 8 columns]"
            ]
          },
          "metadata": {
            "tags": []
          },
          "execution_count": 60
        }
      ]
    },
    {
      "cell_type": "markdown",
      "metadata": {
        "id": "FfUnIi7XmpuR"
      },
      "source": [
        "#Sellout2019"
      ]
    },
    {
      "cell_type": "code",
      "metadata": {
        "id": "9wzB3q-9mpuT"
      },
      "source": [
        "SelloutProductos19 = Sellout2019.join(productos, Sellout2019.UPC == productos.CODIGOBARRAS,  \"inner\")"
      ],
      "execution_count": null,
      "outputs": []
    },
    {
      "cell_type": "code",
      "metadata": {
        "id": "WOFRwXNqmpuX"
      },
      "source": [
        "Sellout19K = SelloutProductos19.withColumn(\"SKU\", F.concat(F.trim(\"MARCA\"),F.trim(\"PRESENTACION\"),F.trim(\"TIPO_ENVASE\"), F.trim(\"SABOR\")))\n",
        "Sellout19M = Sellout19K.withColumn(\"mes\", F.substring(\"FECHA\",4,3))\n",
        "Sellint19S = Sellout19M.withColumn(\"mm\", F.when((F.col(\"mes\") == \"JAN\"), F.lit(\"01\"))\n",
        ".when((F.col(\"mes\") == \"FEB\"), F.lit(\"02\"))\n",
        ".when((F.col(\"mes\") == \"MAR\"), F.lit(\"03\"))\n",
        ".when((F.col(\"mes\") == \"APR\"), F.lit(\"04\"))\n",
        ".when((F.col(\"mes\") == \"MAY\"), F.lit(\"05\"))\n",
        ".when((F.col(\"mes\") == \"JUN\"), F.lit(\"06\"))\n",
        ".when((F.col(\"mes\") == \"JUL\"), F.lit(\"07\"))\n",
        ".when((F.col(\"mes\") == \"AUG\"), F.lit(\"08\"))\n",
        ".when((F.col(\"mes\") == \"SEP\"), F.lit(\"09\"))\n",
        ".when((F.col(\"mes\") == \"OCT\"), F.lit(\"10\"))\n",
        ".when((F.col(\"mes\") == \"NOV\"), F.lit(\"11\"))\n",
        ".when((F.col(\"mes\") == \"DEC\"), F.lit(\"12\")).otherwise(None))\n",
        "Sellint19F = Sellint19S.withColumn(\"FECHA1\", F.concat(F.substring(\"FECHA\",1,3),\"mm\",F.substring(\"FECHA\",7,3)))"
      ],
      "execution_count": null,
      "outputs": []
    },
    {
      "cell_type": "code",
      "metadata": {
        "id": "tjEM5o--mpua"
      },
      "source": [
        "df6 = Sellint19F.withColumn(\"datee\", F.to_date(F.from_unixtime(F.unix_timestamp(\"FECHA1\", \"dd-MM-yy\"))).cast(\"date\")).sort(\"VENTA_UNIDADES\", ascending=False)\n",
        "df6 = df6.withColumn(\"amount_total\", F.col(\"Venta_IMPORTE\"))"
      ],
      "execution_count": null,
      "outputs": []
    },
    {
      "cell_type": "code",
      "metadata": {
        "id": "ddFpXQSumpud"
      },
      "source": [
        "recency_df = df6.groupBy(\"SKU\").agg(F.max(\"datee\").alias(\"LastPurshaceDate\"))\n",
        "recency_df = recency_df.withColumn(\"date\", F.lit(now))\n",
        "recency_df = recency_df.withColumn(\"recency\", F.datediff(F.to_date(recency_df[\"date\"]),F.to_date(recency_df[\"LastPurshaceDate\"]))).sort(\"recency\")\n",
        "recency_df = recency_df.select(\"SKU\", \"Recency\")"
      ],
      "execution_count": null,
      "outputs": []
    },
    {
      "cell_type": "code",
      "metadata": {
        "id": "PoalPiYGmpue"
      },
      "source": [
        "frequency_df = df6.dropDuplicates([\"VENTA_UNIDADES\", \"SKU\"])\n",
        "frequency_df = frequency_df.groupBy(\"SKU\").agg(F.count(\"*\").alias(\"Frequency\"))\n",
        "frequency_df = frequency_df.select(\"SKU\", \"Frequency\")"
      ],
      "execution_count": null,
      "outputs": []
    },
    {
      "cell_type": "code",
      "metadata": {
        "id": "8Y6wwQtEmpug"
      },
      "source": [
        "monetary_df = df6.dropDuplicates([\"VENTA_UNIDADES\", \"SKU\"])\n",
        "monetary_df = monetary_df.groupBy(\"SKU\").agg(F.sum(\"amount_total\").alias(\"Monetary\"))\n",
        "monetary_df = monetary_df.select(\"SKU\", \"Monetary\")"
      ],
      "execution_count": null,
      "outputs": []
    },
    {
      "cell_type": "code",
      "metadata": {
        "id": "nRuyVHfEmpuj"
      },
      "source": [
        "rfm_table = recency_df.join(frequency_df, \"SKU\").sort(\"SKU\")\n",
        "rfm_table = rfm_table.join(monetary_df, \"SKU\").sort(\"SKU\")"
      ],
      "execution_count": null,
      "outputs": []
    },
    {
      "cell_type": "code",
      "metadata": {
        "id": "CHiYuDjJmpul"
      },
      "source": [
        "quantile = rfm_table.approxQuantile([\"Recency\", \"Frequency\", \"Monetary\"], [0.25, 0.5, 0.75], 0)"
      ],
      "execution_count": null,
      "outputs": []
    },
    {
      "cell_type": "code",
      "metadata": {
        "id": "Oy1vjO35mpun"
      },
      "source": [
        "rfm_table2 = rfm_table.withColumn(\"r_quantile\", F.when((F.col(\"Recency\") >= 0) & (F.col(\"Recency\") <= quantile[0][0]), \"4\")\\\n",
        "                                  .when((F.col(\"Recency\") > quantile[0][0]) & (F.col(\"Recency\") <= quantile[0][1]), \"3\")\\\n",
        "                                  .when((F.col(\"Recency\") > quantile[0][1]) & (F.col(\"Recency\") <= quantile[0][2]), \"2\").otherwise(\"1\"))"
      ],
      "execution_count": null,
      "outputs": []
    },
    {
      "cell_type": "code",
      "metadata": {
        "id": "JFf8HETBmpup"
      },
      "source": [
        "rfm_table2 = rfm_table2.withColumn(\"f_quantile\", F.when((F.col(\"Frequency\") >= 0) & (F.col(\"Frequency\") <= quantile[1][0]), \"1\")\\\n",
        " .when((F.col(\"Frequency\") > quantile[1][0]) & (F.col(\"Frequency\") <= quantile[1][1]), \"2\")\\\n",
        " .when((F.col(\"Frequency\") > quantile[1][1]) & (F.col(\"Frequency\") <= quantile[1][2]), \"3\").otherwise(\"4\"))"
      ],
      "execution_count": null,
      "outputs": []
    },
    {
      "cell_type": "code",
      "metadata": {
        "id": "uYgUTehd4Y5_"
      },
      "source": [
        "rfm_table019 = rfm_table2.withColumn(\"m_quantile\", F.when((F.col(\"Monetary\") >= 0) & (F.col(\"Monetary\") <= quantile[2][0]), \"1\")\\\n",
        " .when((F.col(\"Monetary\") > quantile[2][0]) & (F.col(\"Monetary\") <= quantile[2][1]), \"2\")\\\n",
        " .when((F.col(\"Monetary\") > quantile[2][1]) & (F.col(\"Monetary\") <= quantile[2][2]), \"3\").otherwise(\"4\"))"
      ],
      "execution_count": null,
      "outputs": []
    },
    {
      "cell_type": "code",
      "metadata": {
        "id": "lFI8y8YCmpur"
      },
      "source": [
        "def rfm_score(r,f,m):\n",
        " value = \"{0}{1}{2}\".format(r,f,m)\n",
        " return value\n",
        "return_rfm_score_udf = F.udf(rfm_score)\n",
        "outp = rfm_table019.withColumn(\"RFMScore\", return_rfm_score_udf(F.col(\"r_quantile\"),F.col(\"f_quantile\"),F.col(\"m_quantile\")))"
      ],
      "execution_count": null,
      "outputs": []
    },
    {
      "cell_type": "markdown",
      "metadata": {
        "id": "nyu_I33ZzMDN"
      },
      "source": [
        "# RFM Sellout 2019"
      ]
    },
    {
      "cell_type": "code",
      "metadata": {
        "id": "dhQ155bXmput",
        "outputId": "5f7aced6-b57a-403c-ff6f-9d5a1215bb36",
        "colab": {
          "base_uri": "https://localhost:8080/",
          "height": 419
        }
      },
      "source": [
        "outp.sort(\"RFMScore\", ascending=False).toPandas()"
      ],
      "execution_count": null,
      "outputs": [
        {
          "output_type": "execute_result",
          "data": {
            "text/html": [
              "<div>\n",
              "<style scoped>\n",
              "    .dataframe tbody tr th:only-of-type {\n",
              "        vertical-align: middle;\n",
              "    }\n",
              "\n",
              "    .dataframe tbody tr th {\n",
              "        vertical-align: top;\n",
              "    }\n",
              "\n",
              "    .dataframe thead th {\n",
              "        text-align: right;\n",
              "    }\n",
              "</style>\n",
              "<table border=\"1\" class=\"dataframe\">\n",
              "  <thead>\n",
              "    <tr style=\"text-align: right;\">\n",
              "      <th></th>\n",
              "      <th>SKU</th>\n",
              "      <th>Recency</th>\n",
              "      <th>Frequency</th>\n",
              "      <th>Monetary</th>\n",
              "      <th>r_quantile</th>\n",
              "      <th>f_quantile</th>\n",
              "      <th>m_quantile</th>\n",
              "      <th>RFMScore</th>\n",
              "    </tr>\n",
              "  </thead>\n",
              "  <tbody>\n",
              "    <tr>\n",
              "      <th>0</th>\n",
              "      <td>7 Up3 LtsPetLima Limon</td>\n",
              "      <td>316</td>\n",
              "      <td>138</td>\n",
              "      <td>198646.6943</td>\n",
              "      <td>4</td>\n",
              "      <td>4</td>\n",
              "      <td>4</td>\n",
              "      <td>444</td>\n",
              "    </tr>\n",
              "    <tr>\n",
              "      <th>1</th>\n",
              "      <td>Lipton Light600 MlPetTé Verde Light</td>\n",
              "      <td>316</td>\n",
              "      <td>183</td>\n",
              "      <td>145693.1850</td>\n",
              "      <td>4</td>\n",
              "      <td>4</td>\n",
              "      <td>4</td>\n",
              "      <td>444</td>\n",
              "    </tr>\n",
              "    <tr>\n",
              "      <th>2</th>\n",
              "      <td>Mzna Sol600 MlPetManzana</td>\n",
              "      <td>316</td>\n",
              "      <td>240</td>\n",
              "      <td>323493.0243</td>\n",
              "      <td>4</td>\n",
              "      <td>4</td>\n",
              "      <td>4</td>\n",
              "      <td>444</td>\n",
              "    </tr>\n",
              "    <tr>\n",
              "      <th>3</th>\n",
              "      <td>Epura1.5 LtsPetAgua Natural</td>\n",
              "      <td>316</td>\n",
              "      <td>198</td>\n",
              "      <td>212924.4235</td>\n",
              "      <td>4</td>\n",
              "      <td>4</td>\n",
              "      <td>4</td>\n",
              "      <td>444</td>\n",
              "    </tr>\n",
              "    <tr>\n",
              "      <th>4</th>\n",
              "      <td>Mzna Sol2 LtsPetManzana</td>\n",
              "      <td>316</td>\n",
              "      <td>155</td>\n",
              "      <td>178741.3112</td>\n",
              "      <td>4</td>\n",
              "      <td>4</td>\n",
              "      <td>4</td>\n",
              "      <td>444</td>\n",
              "    </tr>\n",
              "    <tr>\n",
              "      <th>...</th>\n",
              "      <td>...</td>\n",
              "      <td>...</td>\n",
              "      <td>...</td>\n",
              "      <td>...</td>\n",
              "      <td>...</td>\n",
              "      <td>...</td>\n",
              "      <td>...</td>\n",
              "      <td>...</td>\n",
              "    </tr>\n",
              "    <tr>\n",
              "      <th>353</th>\n",
              "      <td>PepsiJgoLim400 MlPetColaJugoL</td>\n",
              "      <td>331</td>\n",
              "      <td>11</td>\n",
              "      <td>302.3595</td>\n",
              "      <td>1</td>\n",
              "      <td>1</td>\n",
              "      <td>1</td>\n",
              "      <td>111</td>\n",
              "    </tr>\n",
              "    <tr>\n",
              "      <th>354</th>\n",
              "      <td>Aguas Frescas3 LtsPetJamaica</td>\n",
              "      <td>456</td>\n",
              "      <td>1</td>\n",
              "      <td>3.8700</td>\n",
              "      <td>1</td>\n",
              "      <td>1</td>\n",
              "      <td>1</td>\n",
              "      <td>111</td>\n",
              "    </tr>\n",
              "    <tr>\n",
              "      <th>355</th>\n",
              "      <td>Jarritos600 MlPetCitrus</td>\n",
              "      <td>387</td>\n",
              "      <td>4</td>\n",
              "      <td>60.9700</td>\n",
              "      <td>1</td>\n",
              "      <td>1</td>\n",
              "      <td>1</td>\n",
              "      <td>111</td>\n",
              "    </tr>\n",
              "    <tr>\n",
              "      <th>356</th>\n",
              "      <td>Titan2.5 LtsPetTuti-Fruti</td>\n",
              "      <td>364</td>\n",
              "      <td>1</td>\n",
              "      <td>40.5000</td>\n",
              "      <td>1</td>\n",
              "      <td>1</td>\n",
              "      <td>1</td>\n",
              "      <td>111</td>\n",
              "    </tr>\n",
              "    <tr>\n",
              "      <th>357</th>\n",
              "      <td>RockStar0.5 LtsPetOriginal</td>\n",
              "      <td>677</td>\n",
              "      <td>2</td>\n",
              "      <td>7.0400</td>\n",
              "      <td>1</td>\n",
              "      <td>1</td>\n",
              "      <td>1</td>\n",
              "      <td>111</td>\n",
              "    </tr>\n",
              "  </tbody>\n",
              "</table>\n",
              "<p>358 rows × 8 columns</p>\n",
              "</div>"
            ],
            "text/plain": [
              "                                     SKU  Recency  ...  m_quantile  RFMScore\n",
              "0                 7 Up3 LtsPetLima Limon      316  ...           4       444\n",
              "1    Lipton Light600 MlPetTé Verde Light      316  ...           4       444\n",
              "2               Mzna Sol600 MlPetManzana      316  ...           4       444\n",
              "3            Epura1.5 LtsPetAgua Natural      316  ...           4       444\n",
              "4                Mzna Sol2 LtsPetManzana      316  ...           4       444\n",
              "..                                   ...      ...  ...         ...       ...\n",
              "353        PepsiJgoLim400 MlPetColaJugoL      331  ...           1       111\n",
              "354         Aguas Frescas3 LtsPetJamaica      456  ...           1       111\n",
              "355              Jarritos600 MlPetCitrus      387  ...           1       111\n",
              "356            Titan2.5 LtsPetTuti-Fruti      364  ...           1       111\n",
              "357           RockStar0.5 LtsPetOriginal      677  ...           1       111\n",
              "\n",
              "[358 rows x 8 columns]"
            ]
          },
          "metadata": {
            "tags": []
          },
          "execution_count": 73
        }
      ]
    },
    {
      "cell_type": "markdown",
      "metadata": {
        "id": "AqA-D4QMzboi"
      },
      "source": [
        "# Sellout 2020"
      ]
    },
    {
      "cell_type": "code",
      "metadata": {
        "id": "eI_pC8bfD4Q9"
      },
      "source": [
        "SelloutProductos20 = Sellout2020.join(productos, Sellout2020.UPC == productos.CODIGOBARRAS,  \"inner\")"
      ],
      "execution_count": null,
      "outputs": []
    },
    {
      "cell_type": "code",
      "metadata": {
        "id": "WpKAwUJVDQ6A"
      },
      "source": [
        "Sellout20K = SelloutProductos20.withColumn(\"SKU\", F.concat(F.trim(\"MARCA\"),F.trim(\"PRESENTACION\"),F.trim(\"TIPO_ENVASE\"), F.trim(\"SABOR\")))\n",
        "Sellout20M = Sellout20K.withColumn(\"mes\", F.substring(\"FECHA\",4,3))\n",
        "Sellint20S = Sellout20M.withColumn(\"mm\", F.when((F.col(\"mes\") == \"JAN\"), F.lit(\"01\"))\n",
        ".when((F.col(\"mes\") == \"FEB\"), F.lit(\"02\"))\n",
        ".when((F.col(\"mes\") == \"MAR\"), F.lit(\"03\"))\n",
        ".when((F.col(\"mes\") == \"APR\"), F.lit(\"04\"))\n",
        ".when((F.col(\"mes\") == \"MAY\"), F.lit(\"05\"))\n",
        ".when((F.col(\"mes\") == \"JUN\"), F.lit(\"06\"))\n",
        ".when((F.col(\"mes\") == \"JUL\"), F.lit(\"07\"))\n",
        ".when((F.col(\"mes\") == \"AUG\"), F.lit(\"08\"))\n",
        ".when((F.col(\"mes\") == \"SEP\"), F.lit(\"09\"))\n",
        ".when((F.col(\"mes\") == \"OCT\"), F.lit(\"10\"))\n",
        ".when((F.col(\"mes\") == \"NOV\"), F.lit(\"11\"))\n",
        ".when((F.col(\"mes\") == \"DEC\"), F.lit(\"12\")).otherwise(None))\n",
        "Sellint20F = Sellint20S.withColumn(\"FECHA1\", F.concat(F.substring(\"FECHA\",1,3),\"mm\",F.substring(\"FECHA\",7,3)))"
      ],
      "execution_count": null,
      "outputs": []
    },
    {
      "cell_type": "code",
      "metadata": {
        "id": "GWxNUrrZUhj1"
      },
      "source": [
        "df6 = Sellint20F.withColumn(\"datee\", F.to_date(F.from_unixtime(F.unix_timestamp(\"FECHA1\", \"dd-MM-yy\"))).cast(\"date\")).sort(\"VENTA_UNIDADES\", ascending=False)\n",
        "df6 = df6.withColumn(\"amount_total\", F.col(\"Venta_IMPORTE\"))"
      ],
      "execution_count": null,
      "outputs": []
    },
    {
      "cell_type": "code",
      "metadata": {
        "id": "AP92jhwCUiUk"
      },
      "source": [
        "recency_df = df6.groupBy(\"SKU\").agg(F.max(\"datee\").alias(\"LastPurshaceDate\"))\n",
        "recency_df = recency_df.withColumn(\"date\", F.lit(now))\n",
        "recency_df = recency_df.withColumn(\"recency\", F.datediff(F.to_date(recency_df[\"date\"]),F.to_date(recency_df[\"LastPurshaceDate\"]))).sort(\"recency\")\n",
        "recency_df = recency_df.select(\"SKU\", \"Recency\")"
      ],
      "execution_count": null,
      "outputs": []
    },
    {
      "cell_type": "code",
      "metadata": {
        "id": "_67x2XSZUijz"
      },
      "source": [
        "frequency_df = df6.dropDuplicates([\"VENTA_UNIDADES\", \"SKU\"])\n",
        "frequency_df = frequency_df.groupBy(\"SKU\").agg(F.count(\"*\").alias(\"Frequency\"))\n",
        "frequency_df = frequency_df.select(\"SKU\", \"Frequency\")"
      ],
      "execution_count": null,
      "outputs": []
    },
    {
      "cell_type": "code",
      "metadata": {
        "id": "Uf_wjOROUigF"
      },
      "source": [
        "monetary_df = df6.dropDuplicates([\"VENTA_UNIDADES\", \"SKU\"])\n",
        "monetary_df = monetary_df.groupBy(\"SKU\").agg(F.sum(\"amount_total\").alias(\"Monetary\"))\n",
        "monetary_df = monetary_df.select(\"SKU\", \"Monetary\")"
      ],
      "execution_count": null,
      "outputs": []
    },
    {
      "cell_type": "code",
      "metadata": {
        "id": "C3VU1z9iUifP"
      },
      "source": [
        "rfm_table = recency_df.join(frequency_df, \"SKU\").sort(\"SKU\")\n",
        "rfm_table = rfm_table.join(monetary_df, \"SKU\").sort(\"SKU\")"
      ],
      "execution_count": null,
      "outputs": []
    },
    {
      "cell_type": "code",
      "metadata": {
        "id": "-CSlHqdyUibU"
      },
      "source": [
        "quantile = rfm_table.approxQuantile([\"Recency\", \"Frequency\", \"Monetary\"], [0.25, 0.5, 0.75], 0)"
      ],
      "execution_count": null,
      "outputs": []
    },
    {
      "cell_type": "code",
      "metadata": {
        "id": "L4d-DQeKUiYt"
      },
      "source": [
        "rfm_table2 = rfm_table.withColumn(\"r_quantile\", F.when((F.col(\"Recency\") >= 0) & (F.col(\"Recency\") <= quantile[0][0]), \"4\")\\\n",
        "                                  .when((F.col(\"Recency\") > quantile[0][0]) & (F.col(\"Recency\") <= quantile[0][1]), \"3\")\\\n",
        "                                  .when((F.col(\"Recency\") > quantile[0][1]) & (F.col(\"Recency\") <= quantile[0][2]), \"2\").otherwise(\"1\"))"
      ],
      "execution_count": null,
      "outputs": []
    },
    {
      "cell_type": "code",
      "metadata": {
        "id": "LlNAwXQuUhic"
      },
      "source": [
        "rfm_table2 = rfm_table2.withColumn(\"f_quantile\", F.when((F.col(\"Frequency\") >= 0) & (F.col(\"Frequency\") <= quantile[1][0]), \"1\")\\\n",
        " .when((F.col(\"Frequency\") > quantile[1][0]) & (F.col(\"Frequency\") <= quantile[1][1]), \"2\")\\\n",
        " .when((F.col(\"Frequency\") > quantile[1][1]) & (F.col(\"Frequency\") <= quantile[1][2]), \"3\").otherwise(\"4\"))"
      ],
      "execution_count": null,
      "outputs": []
    },
    {
      "cell_type": "code",
      "metadata": {
        "id": "Z-csfi214qcW"
      },
      "source": [
        "rfm_table020 = rfm_table2.withColumn(\"m_quantile\", F.when((F.col(\"Monetary\") >= 0) & (F.col(\"Monetary\") <= quantile[2][0]), \"1\")\\\n",
        " .when((F.col(\"Monetary\") > quantile[2][0]) & (F.col(\"Monetary\") <= quantile[2][1]), \"2\")\\\n",
        " .when((F.col(\"Monetary\") > quantile[2][1]) & (F.col(\"Monetary\") <= quantile[2][2]), \"3\").otherwise(\"4\"))"
      ],
      "execution_count": null,
      "outputs": []
    },
    {
      "cell_type": "code",
      "metadata": {
        "id": "NE8qXDJoVKWX"
      },
      "source": [
        "def rfm_score(r,f,m):\n",
        " value = \"{0}{1}{2}\".format(r,f,m)\n",
        " return value\n",
        "return_rfm_score_udf = F.udf(rfm_score)\n",
        "outp = rfm_table020.withColumn(\"RFMScore\", return_rfm_score_udf(F.col(\"r_quantile\"),F.col(\"f_quantile\"),F.col(\"m_quantile\")))"
      ],
      "execution_count": null,
      "outputs": []
    },
    {
      "cell_type": "markdown",
      "metadata": {
        "id": "68LYhxTNz3wJ"
      },
      "source": [
        "# RFM Sellout 2020"
      ]
    },
    {
      "cell_type": "code",
      "metadata": {
        "id": "n2ITo_jUVKa9",
        "outputId": "a9e8fb40-f49f-426b-bfb5-b016c37e1c72",
        "colab": {
          "base_uri": "https://localhost:8080/",
          "height": 419
        }
      },
      "source": [
        "outp.sort(\"RFMScore\", ascending=False).toPandas()"
      ],
      "execution_count": null,
      "outputs": [
        {
          "output_type": "execute_result",
          "data": {
            "text/html": [
              "<div>\n",
              "<style scoped>\n",
              "    .dataframe tbody tr th:only-of-type {\n",
              "        vertical-align: middle;\n",
              "    }\n",
              "\n",
              "    .dataframe tbody tr th {\n",
              "        vertical-align: top;\n",
              "    }\n",
              "\n",
              "    .dataframe thead th {\n",
              "        text-align: right;\n",
              "    }\n",
              "</style>\n",
              "<table border=\"1\" class=\"dataframe\">\n",
              "  <thead>\n",
              "    <tr style=\"text-align: right;\">\n",
              "      <th></th>\n",
              "      <th>SKU</th>\n",
              "      <th>Recency</th>\n",
              "      <th>Frequency</th>\n",
              "      <th>Monetary</th>\n",
              "      <th>r_quantile</th>\n",
              "      <th>f_quantile</th>\n",
              "      <th>m_quantile</th>\n",
              "      <th>RFMScore</th>\n",
              "    </tr>\n",
              "  </thead>\n",
              "  <tbody>\n",
              "    <tr>\n",
              "      <th>0</th>\n",
              "      <td>Lipton Light600 MlPetTé Verde Light</td>\n",
              "      <td>256</td>\n",
              "      <td>118</td>\n",
              "      <td>79585.1774</td>\n",
              "      <td>4</td>\n",
              "      <td>4</td>\n",
              "      <td>4</td>\n",
              "      <td>444</td>\n",
              "    </tr>\n",
              "    <tr>\n",
              "      <th>1</th>\n",
              "      <td>Mzna Sol600 MlPetManzana</td>\n",
              "      <td>256</td>\n",
              "      <td>168</td>\n",
              "      <td>137283.7760</td>\n",
              "      <td>4</td>\n",
              "      <td>4</td>\n",
              "      <td>4</td>\n",
              "      <td>444</td>\n",
              "    </tr>\n",
              "    <tr>\n",
              "      <th>2</th>\n",
              "      <td>Epura1.5 LtsPetAgua Natural</td>\n",
              "      <td>256</td>\n",
              "      <td>116</td>\n",
              "      <td>82267.5108</td>\n",
              "      <td>4</td>\n",
              "      <td>4</td>\n",
              "      <td>4</td>\n",
              "      <td>444</td>\n",
              "    </tr>\n",
              "    <tr>\n",
              "      <th>3</th>\n",
              "      <td>Mzna Sol2 LtsPetManzana</td>\n",
              "      <td>256</td>\n",
              "      <td>114</td>\n",
              "      <td>158451.7543</td>\n",
              "      <td>4</td>\n",
              "      <td>4</td>\n",
              "      <td>4</td>\n",
              "      <td>444</td>\n",
              "    </tr>\n",
              "    <tr>\n",
              "      <th>4</th>\n",
              "      <td>Pepsi Black12 OzPetCola Black</td>\n",
              "      <td>256</td>\n",
              "      <td>252</td>\n",
              "      <td>138934.4107</td>\n",
              "      <td>4</td>\n",
              "      <td>4</td>\n",
              "      <td>4</td>\n",
              "      <td>444</td>\n",
              "    </tr>\n",
              "    <tr>\n",
              "      <th>...</th>\n",
              "      <td>...</td>\n",
              "      <td>...</td>\n",
              "      <td>...</td>\n",
              "      <td>...</td>\n",
              "      <td>...</td>\n",
              "      <td>...</td>\n",
              "      <td>...</td>\n",
              "      <td>...</td>\n",
              "    </tr>\n",
              "    <tr>\n",
              "      <th>301</th>\n",
              "      <td>Be Light1 LtsPetKiwi-Fresa</td>\n",
              "      <td>261</td>\n",
              "      <td>2</td>\n",
              "      <td>9.4800</td>\n",
              "      <td>1</td>\n",
              "      <td>1</td>\n",
              "      <td>1</td>\n",
              "      <td>111</td>\n",
              "    </tr>\n",
              "    <tr>\n",
              "      <th>302</th>\n",
              "      <td>JumexFresh1.5 LtsPetConga</td>\n",
              "      <td>281</td>\n",
              "      <td>2</td>\n",
              "      <td>15.0500</td>\n",
              "      <td>1</td>\n",
              "      <td>1</td>\n",
              "      <td>1</td>\n",
              "      <td>111</td>\n",
              "    </tr>\n",
              "    <tr>\n",
              "      <th>303</th>\n",
              "      <td>Agua Glacial1 GalonPetAgua Natural</td>\n",
              "      <td>261</td>\n",
              "      <td>16</td>\n",
              "      <td>1980.0000</td>\n",
              "      <td>1</td>\n",
              "      <td>1</td>\n",
              "      <td>1</td>\n",
              "      <td>111</td>\n",
              "    </tr>\n",
              "    <tr>\n",
              "      <th>304</th>\n",
              "      <td>Jarritos600 MlPetCitrus</td>\n",
              "      <td>296</td>\n",
              "      <td>1</td>\n",
              "      <td>7.8700</td>\n",
              "      <td>1</td>\n",
              "      <td>1</td>\n",
              "      <td>1</td>\n",
              "      <td>111</td>\n",
              "    </tr>\n",
              "    <tr>\n",
              "      <th>305</th>\n",
              "      <td>Titan2.5 LtsPetTuti-Fruti</td>\n",
              "      <td>298</td>\n",
              "      <td>1</td>\n",
              "      <td>40.5000</td>\n",
              "      <td>1</td>\n",
              "      <td>1</td>\n",
              "      <td>1</td>\n",
              "      <td>111</td>\n",
              "    </tr>\n",
              "  </tbody>\n",
              "</table>\n",
              "<p>306 rows × 8 columns</p>\n",
              "</div>"
            ],
            "text/plain": [
              "                                     SKU  Recency  ...  m_quantile  RFMScore\n",
              "0    Lipton Light600 MlPetTé Verde Light      256  ...           4       444\n",
              "1               Mzna Sol600 MlPetManzana      256  ...           4       444\n",
              "2            Epura1.5 LtsPetAgua Natural      256  ...           4       444\n",
              "3                Mzna Sol2 LtsPetManzana      256  ...           4       444\n",
              "4          Pepsi Black12 OzPetCola Black      256  ...           4       444\n",
              "..                                   ...      ...  ...         ...       ...\n",
              "301           Be Light1 LtsPetKiwi-Fresa      261  ...           1       111\n",
              "302            JumexFresh1.5 LtsPetConga      281  ...           1       111\n",
              "303   Agua Glacial1 GalonPetAgua Natural      261  ...           1       111\n",
              "304              Jarritos600 MlPetCitrus      296  ...           1       111\n",
              "305            Titan2.5 LtsPetTuti-Fruti      298  ...           1       111\n",
              "\n",
              "[306 rows x 8 columns]"
            ]
          },
          "metadata": {
            "tags": []
          },
          "execution_count": 86
        }
      ]
    },
    {
      "cell_type": "markdown",
      "metadata": {
        "id": "jnknZfovg-bn"
      },
      "source": [
        "# Write Territorio SKU y Score"
      ]
    },
    {
      "cell_type": "code",
      "metadata": {
        "id": "aiu9ykwfqjvu"
      },
      "source": [
        "outp18 = rfm_table3.withColumn(\"RFMScore\", return_rfm_score_udf(F.col(\"r_quantile\"),F.col(\"f_quantile\"),F.col(\"m_quantile\")))"
      ],
      "execution_count": null,
      "outputs": []
    },
    {
      "cell_type": "code",
      "metadata": {
        "id": "xN0TrPRgwzJm"
      },
      "source": [
        "Sellint18Agg = Sellint18K.select(\"CADENA_COMERCIAL\",\"SKU\").distinct()\n",
        "SucursalesAgg = Sucursales.select(\"LLAVE\", \"REGION\", \"TERRITORIO\", \"CADENA_COMERCIAL\").distinct()\n",
        "SellintIndi = Sellint18Agg.join(SucursalesAgg, \"CADENA_COMERCIAL\")\n",
        "Sellint18Suc = SellintIndi.join(outp, \"SKU\").select(\"LLAVE\", \"REGION\", \"TERRITORIO\",\"CADENA_COMERCIAL\",\"SKU\",\"RFMScore\").withColumn(\"PERIODO\", F.lit(\"2018\")).withColumn(\"SUCURSAL\", F.col(\"LLAVE\"))\n",
        "Sellint18Sucb = Sellint18Suc.select(\"PERIODO\",\"REGION\", \"TERRITORIO\", \"CADENA_COMERCIAL\", \"SUCURSAL\", \"SKU\", \"RFMScore\")\n"
      ],
      "execution_count": null,
      "outputs": []
    },
    {
      "cell_type": "code",
      "metadata": {
        "id": "SZ9GZamxpA4s"
      },
      "source": [
        "Sellint18Sucb.coalesce(1).write.format('com.databricks.spark.csv').options(header='true').save('/content/drive/My Drive/GEPP/Resultados/ouSellint18')"
      ],
      "execution_count": null,
      "outputs": []
    },
    {
      "cell_type": "code",
      "metadata": {
        "id": "uD_VvuxQ3i5H"
      },
      "source": [
        "outp19 = rfm_table319.withColumn(\"RFMScore\", return_rfm_score_udf(F.col(\"r_quantile\"),F.col(\"f_quantile\"),F.col(\"m_quantile\")))"
      ],
      "execution_count": null,
      "outputs": []
    },
    {
      "cell_type": "code",
      "metadata": {
        "id": "YxDA37FUH1h-"
      },
      "source": [
        "Sellint19Agg = Sellint19K.select(\"CADENA_COMERCIAL\",\"SKU\").distinct()\n",
        "SucursalesAgg = Sucursales.select(\"LLAVE\", \"REGION\", \"TERRITORIO\", \"CADENA_COMERCIAL\").distinct()\n",
        "SellintIndi = Sellint19Agg.join(SucursalesAgg, \"CADENA_COMERCIAL\")\n",
        "Sellint19Suc = SellintIndi.join(outp, \"SKU\").select(\"LLAVE\", \"REGION\", \"TERRITORIO\",\"CADENA_COMERCIAL\",\"SKU\",\"RFMScore\").withColumn(\"PERIODO\", F.lit(\"2019\")).withColumn(\"SUCURSAL\", F.col(\"LLAVE\"))\n",
        "Sellint19Sucb = Sellint19Suc.select(\"PERIODO\",\"REGION\", \"TERRITORIO\", \"CADENA_COMERCIAL\", \"SUCURSAL\", \"SKU\", \"RFMScore\")"
      ],
      "execution_count": null,
      "outputs": []
    },
    {
      "cell_type": "code",
      "metadata": {
        "id": "3NWhnBxwpDv0"
      },
      "source": [
        "Sellint19Sucb.coalesce(1).write.format('com.databricks.spark.csv').options(header='true').save('/content/drive/My Drive/GEPP/Resultados/ouSellint19')"
      ],
      "execution_count": null,
      "outputs": []
    },
    {
      "cell_type": "code",
      "metadata": {
        "id": "IW9gDS9m3wuu"
      },
      "source": [
        "outp20 = rfm_table20.withColumn(\"RFMScore\", return_rfm_score_udf(F.col(\"r_quantile\"),F.col(\"f_quantile\"),F.col(\"m_quantile\")))"
      ],
      "execution_count": null,
      "outputs": []
    },
    {
      "cell_type": "code",
      "metadata": {
        "id": "uK2fg92eIE1P"
      },
      "source": [
        "Sellint20Agg = Sellint20K.select(\"CADENA_COMERCIAL\",\"SKU\").distinct()\n",
        "SucursalesAgg = Sucursales.select(\"LLAVE\", \"REGION\", \"TERRITORIO\", \"CADENA_COMERCIAL\").distinct()\n",
        "SellintIndi = Sellint20Agg.join(SucursalesAgg, \"CADENA_COMERCIAL\")\n",
        "Sellint20Suc = SellintIndi.join(outp, \"SKU\").select(\"LLAVE\", \"REGION\", \"TERRITORIO\",\"CADENA_COMERCIAL\",\"SKU\",\"RFMScore\").withColumn(\"PERIODO\", F.lit(\"2020\")).withColumn(\"SUCURSAL\", F.col(\"LLAVE\"))\n",
        "Sellint20Sucb = Sellint20Suc.select(\"PERIODO\",\"REGION\", \"TERRITORIO\", \"CADENA_COMERCIAL\", \"SUCURSAL\", \"SKU\", \"RFMScore\")"
      ],
      "execution_count": null,
      "outputs": []
    },
    {
      "cell_type": "code",
      "metadata": {
        "id": "yJzgqR5KpK_T"
      },
      "source": [
        "Sellint20Sucb.coalesce(1).write.format('com.databricks.spark.csv').options(header='true').save('/content/drive/My Drive/GEPP/Resultados/ouSellint20')"
      ],
      "execution_count": null,
      "outputs": []
    },
    {
      "cell_type": "code",
      "metadata": {
        "id": "cvfm6BWyZp30"
      },
      "source": [
        "ouSellint1819 = Sellint18Sucb.unionAll(Sellint19Sucb)\n",
        "ouSellint = ouSellint1819.unionAll(Sellint20Sucb)\n",
        "Sellint18Sucb.coalesce(1).write.format('com.databricks.spark.csv').options(header='true').save('/content/drive/My Drive/GEPP/Resultados/ouSellint')"
      ],
      "execution_count": null,
      "outputs": []
    },
    {
      "cell_type": "code",
      "metadata": {
        "id": "A7XKxsdFIxmz"
      },
      "source": [
        "outpp18 = rfm_tableo18.withColumn(\"RFMScore\", return_rfm_score_udf(F.col(\"r_quantile\"),F.col(\"f_quantile\"),F.col(\"m_quantile\")))"
      ],
      "execution_count": null,
      "outputs": []
    },
    {
      "cell_type": "code",
      "metadata": {
        "id": "yyKgk3qQmR96"
      },
      "source": [
        "Sucursalesk18 = Sellout18K.withColumn(\"LLAVE\", F.concat(F.trim(\"NUMERO_DE_TIENDA\"), F.trim(\"NOMBRE_DE_TIENDA\")))"
      ],
      "execution_count": null,
      "outputs": []
    },
    {
      "cell_type": "code",
      "metadata": {
        "id": "ESsxKiQQJQWY"
      },
      "source": [
        "Sellout18Agg = Sucursalesk18.select(\"LLAVE\",\"SKU\").distinct()\n",
        "SucursalesAgg = Sucursales.select(\"LLAVE\", \"REGION\", \"TERRITORIO\", \"CADENA_COMERCIAL\").distinct()\n",
        "SellintIndi = Sellout18Agg.join(SucursalesAgg, \"LLAVE\")\n",
        "Sellout18Suc = SellintIndi.join(outpp18, \"SKU\").select(\"LLAVE\", \"REGION\", \"TERRITORIO\", \"CADENA_COMERCIAL\",\"SKU\",\"RFMScore\").withColumn(\"PERIODO\", F.lit(\"2018\")).withColumn(\"SUCURSAL\", F.col(\"LLAVE\"))\n",
        "Sellout18Sucb = Sellint18Suc.select(\"PERIODO\",\"REGION\", \"TERRITORIO\", \"CADENA_COMERCIAL\", \"SUCURSAL\", \"SKU\", \"RFMScore\")"
      ],
      "execution_count": null,
      "outputs": []
    },
    {
      "cell_type": "code",
      "metadata": {
        "id": "tAfp9LKJpQb6"
      },
      "source": [
        "Sellout18Sucb.coalesce(1).write.format('com.databricks.spark.csv').options(header='true').save('/content/drive/My Drive/GEPP/Resultados/ouSellout18')"
      ],
      "execution_count": null,
      "outputs": []
    },
    {
      "cell_type": "code",
      "metadata": {
        "id": "xOMfzDNVJQgp"
      },
      "source": [
        "outpp19 = rfm_table019.withColumn(\"RFMScore\", return_rfm_score_udf(F.col(\"r_quantile\"),F.col(\"f_quantile\"),F.col(\"m_quantile\")))\n",
        "Sucursalesk19 = Sellout19K.withColumn(\"LLAVE\", F.concat(F.trim(\"NUMERO_DE_TIENDA\"), F.trim(\"NOMBRE_DE_TIENDA\")))"
      ],
      "execution_count": null,
      "outputs": []
    },
    {
      "cell_type": "code",
      "metadata": {
        "id": "do-oLhytJVPw"
      },
      "source": [
        "Sellout19Agg = Sucursalesk19.select(\"LLAVE\",\"SKU\").distinct()\n",
        "SucursalesAgg = Sucursales.select(\"LLAVE\", \"REGION\", \"TERRITORIO\", \"CADENA_COMERCIAL\").distinct()\n",
        "SellintIndi = Sellout19Agg.join(SucursalesAgg, \"LLAVE\")\n",
        "Sellout19Suc = SellintIndi.join(outpp19, \"SKU\").select(\"LLAVE\", \"REGION\", \"TERRITORIO\", \"CADENA_COMERCIAL\",\"SKU\",\"RFMScore\").withColumn(\"PERIODO\", F.lit(\"2019\")).withColumn(\"SUCURSAL\", F.col(\"LLAVE\"))\n",
        "Sellout19Sucb = Sellint19Suc.select(\"PERIODO\",\"REGION\", \"TERRITORIO\", \"CADENA_COMERCIAL\", \"SUCURSAL\", \"SKU\", \"RFMScore\")"
      ],
      "execution_count": null,
      "outputs": []
    },
    {
      "cell_type": "code",
      "metadata": {
        "id": "fCULwTCjpW5O"
      },
      "source": [
        "Sellout19Sucb.coalesce(1).write.format('com.databricks.spark.csv').options(header='true').save('/content/drive/My Drive/GEPP/Resultados/ouSellout19')"
      ],
      "execution_count": null,
      "outputs": []
    },
    {
      "cell_type": "code",
      "metadata": {
        "id": "dCdWr3j6JVUF"
      },
      "source": [
        "outpp20 = rfm_table020.withColumn(\"RFMScore\", return_rfm_score_udf(F.col(\"r_quantile\"),F.col(\"f_quantile\"),F.col(\"m_quantile\")))\n",
        "Sucursalesk20 = Sellout20K.withColumn(\"LLAVE\", F.concat(F.trim(\"NUMERO_DE_TIENDA\"), F.trim(\"NOMBRE_DE_TIENDA\")))"
      ],
      "execution_count": null,
      "outputs": []
    },
    {
      "cell_type": "code",
      "metadata": {
        "id": "b5fLDHlBJhJ4"
      },
      "source": [
        "Sellout20Agg = Sucursalesk20.select(\"LLAVE\",\"SKU\").distinct()\n",
        "SucursalesAgg = Sucursales.select(\"LLAVE\", \"REGION\", \"TERRITORIO\", \"CADENA_COMERCIAL\").distinct()\n",
        "SellintIndi = Sellout20Agg.join(SucursalesAgg, \"LLAVE\")\n",
        "Sellout20Suc = SellintIndi.join(outpp20, \"SKU\").select(\"LLAVE\", \"REGION\", \"TERRITORIO\", \"CADENA_COMERCIAL\", \"SKU\",\"RFMScore\").withColumn(\"PERIODO\", F.lit(\"2020\")).withColumn(\"SUCURSAL\", F.col(\"LLAVE\"))\n",
        "Sellout20Sucb = Sellint20Suc.select(\"PERIODO\",\"REGION\", \"TERRITORIO\", \"CADENA_COMERCIAL\", \"SUCURSAL\", \"SKU\", \"RFMScore\")"
      ],
      "execution_count": null,
      "outputs": []
    },
    {
      "cell_type": "code",
      "metadata": {
        "id": "sfxt64tqpbNN"
      },
      "source": [
        "Sellout20Sucb.coalesce(1).write.format('com.databricks.spark.csv').options(header='true').save('/content/drive/My Drive/GEPP/Resultados/ouSellout20')"
      ],
      "execution_count": null,
      "outputs": []
    },
    {
      "cell_type": "code",
      "metadata": {
        "id": "VYqVMlFHbJwe"
      },
      "source": [
        "ouSellout1819 = Sellout18Sucb.unionAll(Sellout19Sucb)\n",
        "ouSellout = ouSellout1819.unionAll(Sellout20Sucb)\n",
        "ouSellout.coalesce(1).write.format('com.databricks.spark.csv').options(header='true').save('/content/drive/My Drive/GEPP/Resultados/ouSellout')"
      ],
      "execution_count": null,
      "outputs": []
    }
  ]
}